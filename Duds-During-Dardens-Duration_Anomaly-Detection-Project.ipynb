{
 "cells": [
  {
   "cell_type": "markdown",
   "metadata": {},
   "source": [
    "# Duds During Darden's Duration:\n",
    "## Anomaly Detection in Access Logs\n",
    "#### Kwame V. Taylor"
   ]
  },
  {
   "cell_type": "markdown",
   "metadata": {},
   "source": [
    "Project Description Here.\n",
    "\n",
    "Info on cohorts can be found in ```cohorts.csv```."
   ]
  },
  {
   "cell_type": "markdown",
   "metadata": {},
   "source": [
    "### Imports"
   ]
  },
  {
   "cell_type": "code",
   "execution_count": 1,
   "metadata": {},
   "outputs": [],
   "source": [
    "import numpy as np\n",
    "import pandas as pd\n",
    "import math\n",
    "from sklearn import metrics\n",
    "\n",
    "from scipy.stats import entropy\n",
    "\n",
    "import warnings\n",
    "warnings.filterwarnings(\"ignore\")\n",
    "import matplotlib.pyplot as plt\n",
    "import matplotlib.dates as mdates #to format dates on our plots\n",
    "%matplotlib inline\n",
    "import seaborn as sns\n",
    "\n",
    "# default viz size settings\n",
    "plt.rc('figure', figsize=(14, 9))\n",
    "plt.rc('font', size=15)\n",
    "\n",
    "# This is to make sure matplotlib doesn't throw the following error:\n",
    "# The next line fixes \"TypeError: float() argument must be a string or a number, not 'Timestamp' matplotlib\"\n",
    "pd.plotting.register_matplotlib_converters()\n",
    "\n",
    "# importing GeoIP database for IP geolocation\n",
    "import geoip2.database\n",
    "reader = geoip2.database.Reader('GeoLite2City/GeoLite2-City.mmdb')\n",
    "\n",
    "# import system to check errors\n",
    "import sys"
   ]
  },
  {
   "cell_type": "markdown",
   "metadata": {},
   "source": [
    "### Acquire"
   ]
  },
  {
   "cell_type": "code",
   "execution_count": 2,
   "metadata": {},
   "outputs": [
    {
     "data": {
      "text/html": [
       "<div>\n",
       "<style scoped>\n",
       "    .dataframe tbody tr th:only-of-type {\n",
       "        vertical-align: middle;\n",
       "    }\n",
       "\n",
       "    .dataframe tbody tr th {\n",
       "        vertical-align: top;\n",
       "    }\n",
       "\n",
       "    .dataframe thead th {\n",
       "        text-align: right;\n",
       "    }\n",
       "</style>\n",
       "<table border=\"1\" class=\"dataframe\">\n",
       "  <thead>\n",
       "    <tr style=\"text-align: right;\">\n",
       "      <th></th>\n",
       "      <th>date</th>\n",
       "      <th>timestamp</th>\n",
       "      <th>request_method</th>\n",
       "      <th>user_id</th>\n",
       "      <th>cohort_id</th>\n",
       "      <th>ip</th>\n",
       "    </tr>\n",
       "  </thead>\n",
       "  <tbody>\n",
       "    <tr>\n",
       "      <th>0</th>\n",
       "      <td>2018-01-26</td>\n",
       "      <td>09:55:03</td>\n",
       "      <td>/</td>\n",
       "      <td>1</td>\n",
       "      <td>8</td>\n",
       "      <td>97.105.19.61</td>\n",
       "    </tr>\n",
       "    <tr>\n",
       "      <th>1</th>\n",
       "      <td>2018-01-26</td>\n",
       "      <td>09:56:02</td>\n",
       "      <td>java-ii</td>\n",
       "      <td>1</td>\n",
       "      <td>8</td>\n",
       "      <td>97.105.19.61</td>\n",
       "    </tr>\n",
       "    <tr>\n",
       "      <th>2</th>\n",
       "      <td>2018-01-26</td>\n",
       "      <td>09:56:05</td>\n",
       "      <td>java-ii/object-oriented-programming</td>\n",
       "      <td>1</td>\n",
       "      <td>8</td>\n",
       "      <td>97.105.19.61</td>\n",
       "    </tr>\n",
       "    <tr>\n",
       "      <th>3</th>\n",
       "      <td>2018-01-26</td>\n",
       "      <td>09:56:06</td>\n",
       "      <td>slides/object_oriented_programming</td>\n",
       "      <td>1</td>\n",
       "      <td>8</td>\n",
       "      <td>97.105.19.61</td>\n",
       "    </tr>\n",
       "    <tr>\n",
       "      <th>4</th>\n",
       "      <td>2018-01-26</td>\n",
       "      <td>09:56:24</td>\n",
       "      <td>javascript-i/conditionals</td>\n",
       "      <td>2</td>\n",
       "      <td>22</td>\n",
       "      <td>97.105.19.61</td>\n",
       "    </tr>\n",
       "  </tbody>\n",
       "</table>\n",
       "</div>"
      ],
      "text/plain": [
       "         date timestamp                       request_method  user_id  \\\n",
       "0  2018-01-26  09:55:03                                    /        1   \n",
       "1  2018-01-26  09:56:02                              java-ii        1   \n",
       "2  2018-01-26  09:56:05  java-ii/object-oriented-programming        1   \n",
       "3  2018-01-26  09:56:06   slides/object_oriented_programming        1   \n",
       "4  2018-01-26  09:56:24            javascript-i/conditionals        2   \n",
       "\n",
       "  cohort_id            ip  \n",
       "0         8  97.105.19.61  \n",
       "1         8  97.105.19.61  \n",
       "2         8  97.105.19.61  \n",
       "3         8  97.105.19.61  \n",
       "4        22  97.105.19.61  "
      ]
     },
     "execution_count": 2,
     "metadata": {},
     "output_type": "execute_result"
    }
   ],
   "source": [
    "colnames = ['date', 'timestamp', 'request_method', 'user_id', 'cohort_id', 'ip']\n",
    "\n",
    "df = pd.read_csv('anonymized-curriculum-access.txt', header=None, index_col=False,\n",
    "                 names=colnames, delim_whitespace=True, na_values='\"-\"')\n",
    "#                 usecols=[0, 1, 2, 5])\n",
    "df.head()"
   ]
  },
  {
   "cell_type": "markdown",
   "metadata": {},
   "source": [
    "### Prepare"
   ]
  },
  {
   "cell_type": "code",
   "execution_count": 55,
   "metadata": {},
   "outputs": [],
   "source": [
    "#drop user_id as it's useless\n",
    "df = df.drop(columns=['user_id'])"
   ]
  },
  {
   "cell_type": "code",
   "execution_count": 3,
   "metadata": {},
   "outputs": [
    {
     "data": {
      "text/html": [
       "<div>\n",
       "<style scoped>\n",
       "    .dataframe tbody tr th:only-of-type {\n",
       "        vertical-align: middle;\n",
       "    }\n",
       "\n",
       "    .dataframe tbody tr th {\n",
       "        vertical-align: top;\n",
       "    }\n",
       "\n",
       "    .dataframe thead th {\n",
       "        text-align: right;\n",
       "    }\n",
       "</style>\n",
       "<table border=\"1\" class=\"dataframe\">\n",
       "  <thead>\n",
       "    <tr style=\"text-align: right;\">\n",
       "      <th></th>\n",
       "      <th>date</th>\n",
       "      <th>timestamp</th>\n",
       "      <th>request_method</th>\n",
       "      <th>user_id</th>\n",
       "      <th>cohort_id</th>\n",
       "      <th>ip</th>\n",
       "      <th>ds</th>\n",
       "    </tr>\n",
       "  </thead>\n",
       "  <tbody>\n",
       "    <tr>\n",
       "      <th>0</th>\n",
       "      <td>2018-01-26</td>\n",
       "      <td>09:55:03</td>\n",
       "      <td>/</td>\n",
       "      <td>1</td>\n",
       "      <td>8</td>\n",
       "      <td>97.105.19.61</td>\n",
       "      <td>2018-01-26 09:55:03</td>\n",
       "    </tr>\n",
       "    <tr>\n",
       "      <th>1</th>\n",
       "      <td>2018-01-26</td>\n",
       "      <td>09:56:02</td>\n",
       "      <td>java-ii</td>\n",
       "      <td>1</td>\n",
       "      <td>8</td>\n",
       "      <td>97.105.19.61</td>\n",
       "      <td>2018-01-26 09:56:02</td>\n",
       "    </tr>\n",
       "    <tr>\n",
       "      <th>2</th>\n",
       "      <td>2018-01-26</td>\n",
       "      <td>09:56:05</td>\n",
       "      <td>java-ii/object-oriented-programming</td>\n",
       "      <td>1</td>\n",
       "      <td>8</td>\n",
       "      <td>97.105.19.61</td>\n",
       "      <td>2018-01-26 09:56:05</td>\n",
       "    </tr>\n",
       "    <tr>\n",
       "      <th>3</th>\n",
       "      <td>2018-01-26</td>\n",
       "      <td>09:56:06</td>\n",
       "      <td>slides/object_oriented_programming</td>\n",
       "      <td>1</td>\n",
       "      <td>8</td>\n",
       "      <td>97.105.19.61</td>\n",
       "      <td>2018-01-26 09:56:06</td>\n",
       "    </tr>\n",
       "    <tr>\n",
       "      <th>4</th>\n",
       "      <td>2018-01-26</td>\n",
       "      <td>09:56:24</td>\n",
       "      <td>javascript-i/conditionals</td>\n",
       "      <td>2</td>\n",
       "      <td>22</td>\n",
       "      <td>97.105.19.61</td>\n",
       "      <td>2018-01-26 09:56:24</td>\n",
       "    </tr>\n",
       "  </tbody>\n",
       "</table>\n",
       "</div>"
      ],
      "text/plain": [
       "         date timestamp                       request_method  user_id  \\\n",
       "0  2018-01-26  09:55:03                                    /        1   \n",
       "1  2018-01-26  09:56:02                              java-ii        1   \n",
       "2  2018-01-26  09:56:05  java-ii/object-oriented-programming        1   \n",
       "3  2018-01-26  09:56:06   slides/object_oriented_programming        1   \n",
       "4  2018-01-26  09:56:24            javascript-i/conditionals        2   \n",
       "\n",
       "  cohort_id            ip                   ds  \n",
       "0         8  97.105.19.61  2018-01-26 09:55:03  \n",
       "1         8  97.105.19.61  2018-01-26 09:56:02  \n",
       "2         8  97.105.19.61  2018-01-26 09:56:05  \n",
       "3         8  97.105.19.61  2018-01-26 09:56:06  \n",
       "4        22  97.105.19.61  2018-01-26 09:56:24  "
      ]
     },
     "execution_count": 3,
     "metadata": {},
     "output_type": "execute_result"
    }
   ],
   "source": [
    "# merge date and timestamp\n",
    "df[\"ds\"] = df[\"date\"] +\" \"+ df[\"timestamp\"]\n",
    "df.head()"
   ]
  },
  {
   "cell_type": "code",
   "execution_count": 4,
   "metadata": {},
   "outputs": [
    {
     "data": {
      "text/html": [
       "<div>\n",
       "<style scoped>\n",
       "    .dataframe tbody tr th:only-of-type {\n",
       "        vertical-align: middle;\n",
       "    }\n",
       "\n",
       "    .dataframe tbody tr th {\n",
       "        vertical-align: top;\n",
       "    }\n",
       "\n",
       "    .dataframe thead th {\n",
       "        text-align: right;\n",
       "    }\n",
       "</style>\n",
       "<table border=\"1\" class=\"dataframe\">\n",
       "  <thead>\n",
       "    <tr style=\"text-align: right;\">\n",
       "      <th></th>\n",
       "      <th>request_method</th>\n",
       "      <th>user_id</th>\n",
       "      <th>cohort_id</th>\n",
       "      <th>ip</th>\n",
       "      <th>ds</th>\n",
       "    </tr>\n",
       "  </thead>\n",
       "  <tbody>\n",
       "    <tr>\n",
       "      <th>0</th>\n",
       "      <td>/</td>\n",
       "      <td>1</td>\n",
       "      <td>8</td>\n",
       "      <td>97.105.19.61</td>\n",
       "      <td>2018-01-26 09:55:03</td>\n",
       "    </tr>\n",
       "    <tr>\n",
       "      <th>1</th>\n",
       "      <td>java-ii</td>\n",
       "      <td>1</td>\n",
       "      <td>8</td>\n",
       "      <td>97.105.19.61</td>\n",
       "      <td>2018-01-26 09:56:02</td>\n",
       "    </tr>\n",
       "    <tr>\n",
       "      <th>2</th>\n",
       "      <td>java-ii/object-oriented-programming</td>\n",
       "      <td>1</td>\n",
       "      <td>8</td>\n",
       "      <td>97.105.19.61</td>\n",
       "      <td>2018-01-26 09:56:05</td>\n",
       "    </tr>\n",
       "    <tr>\n",
       "      <th>3</th>\n",
       "      <td>slides/object_oriented_programming</td>\n",
       "      <td>1</td>\n",
       "      <td>8</td>\n",
       "      <td>97.105.19.61</td>\n",
       "      <td>2018-01-26 09:56:06</td>\n",
       "    </tr>\n",
       "    <tr>\n",
       "      <th>4</th>\n",
       "      <td>javascript-i/conditionals</td>\n",
       "      <td>2</td>\n",
       "      <td>22</td>\n",
       "      <td>97.105.19.61</td>\n",
       "      <td>2018-01-26 09:56:24</td>\n",
       "    </tr>\n",
       "  </tbody>\n",
       "</table>\n",
       "</div>"
      ],
      "text/plain": [
       "                        request_method  user_id cohort_id            ip  \\\n",
       "0                                    /        1         8  97.105.19.61   \n",
       "1                              java-ii        1         8  97.105.19.61   \n",
       "2  java-ii/object-oriented-programming        1         8  97.105.19.61   \n",
       "3   slides/object_oriented_programming        1         8  97.105.19.61   \n",
       "4            javascript-i/conditionals        2        22  97.105.19.61   \n",
       "\n",
       "                    ds  \n",
       "0  2018-01-26 09:55:03  \n",
       "1  2018-01-26 09:56:02  \n",
       "2  2018-01-26 09:56:05  \n",
       "3  2018-01-26 09:56:06  \n",
       "4  2018-01-26 09:56:24  "
      ]
     },
     "execution_count": 4,
     "metadata": {},
     "output_type": "execute_result"
    }
   ],
   "source": [
    "# drop date and timestamp\n",
    "df = df.drop(columns=['date', 'timestamp'])\n",
    "df.head()"
   ]
  },
  {
   "cell_type": "code",
   "execution_count": 5,
   "metadata": {},
   "outputs": [
    {
     "data": {
      "text/plain": [
       "request_method            object\n",
       "user_id                    int64\n",
       "cohort_id                 object\n",
       "ip                        object\n",
       "ds                datetime64[ns]\n",
       "dtype: object"
      ]
     },
     "execution_count": 5,
     "metadata": {},
     "output_type": "execute_result"
    }
   ],
   "source": [
    "# convert date column to datetime type\n",
    "df.ds = pd.to_datetime(df.ds)\n",
    "df.dtypes"
   ]
  },
  {
   "cell_type": "code",
   "execution_count": 6,
   "metadata": {},
   "outputs": [
    {
     "data": {
      "text/html": [
       "<div>\n",
       "<style scoped>\n",
       "    .dataframe tbody tr th:only-of-type {\n",
       "        vertical-align: middle;\n",
       "    }\n",
       "\n",
       "    .dataframe tbody tr th {\n",
       "        vertical-align: top;\n",
       "    }\n",
       "\n",
       "    .dataframe thead th {\n",
       "        text-align: right;\n",
       "    }\n",
       "</style>\n",
       "<table border=\"1\" class=\"dataframe\">\n",
       "  <thead>\n",
       "    <tr style=\"text-align: right;\">\n",
       "      <th></th>\n",
       "      <th>request_method</th>\n",
       "      <th>user_id</th>\n",
       "      <th>cohort_id</th>\n",
       "      <th>ip</th>\n",
       "    </tr>\n",
       "    <tr>\n",
       "      <th>ds</th>\n",
       "      <th></th>\n",
       "      <th></th>\n",
       "      <th></th>\n",
       "      <th></th>\n",
       "    </tr>\n",
       "  </thead>\n",
       "  <tbody>\n",
       "    <tr>\n",
       "      <th>2018-01-26 09:55:03</th>\n",
       "      <td>/</td>\n",
       "      <td>1</td>\n",
       "      <td>8</td>\n",
       "      <td>97.105.19.61</td>\n",
       "    </tr>\n",
       "    <tr>\n",
       "      <th>2018-01-26 09:56:02</th>\n",
       "      <td>java-ii</td>\n",
       "      <td>1</td>\n",
       "      <td>8</td>\n",
       "      <td>97.105.19.61</td>\n",
       "    </tr>\n",
       "    <tr>\n",
       "      <th>2018-01-26 09:56:05</th>\n",
       "      <td>java-ii/object-oriented-programming</td>\n",
       "      <td>1</td>\n",
       "      <td>8</td>\n",
       "      <td>97.105.19.61</td>\n",
       "    </tr>\n",
       "    <tr>\n",
       "      <th>2018-01-26 09:56:06</th>\n",
       "      <td>slides/object_oriented_programming</td>\n",
       "      <td>1</td>\n",
       "      <td>8</td>\n",
       "      <td>97.105.19.61</td>\n",
       "    </tr>\n",
       "    <tr>\n",
       "      <th>2018-01-26 09:56:24</th>\n",
       "      <td>javascript-i/conditionals</td>\n",
       "      <td>2</td>\n",
       "      <td>22</td>\n",
       "      <td>97.105.19.61</td>\n",
       "    </tr>\n",
       "  </tbody>\n",
       "</table>\n",
       "</div>"
      ],
      "text/plain": [
       "                                          request_method  user_id cohort_id  \\\n",
       "ds                                                                            \n",
       "2018-01-26 09:55:03                                    /        1         8   \n",
       "2018-01-26 09:56:02                              java-ii        1         8   \n",
       "2018-01-26 09:56:05  java-ii/object-oriented-programming        1         8   \n",
       "2018-01-26 09:56:06   slides/object_oriented_programming        1         8   \n",
       "2018-01-26 09:56:24            javascript-i/conditionals        2        22   \n",
       "\n",
       "                               ip  \n",
       "ds                                 \n",
       "2018-01-26 09:55:03  97.105.19.61  \n",
       "2018-01-26 09:56:02  97.105.19.61  \n",
       "2018-01-26 09:56:05  97.105.19.61  \n",
       "2018-01-26 09:56:06  97.105.19.61  \n",
       "2018-01-26 09:56:24  97.105.19.61  "
      ]
     },
     "execution_count": 6,
     "metadata": {},
     "output_type": "execute_result"
    }
   ],
   "source": [
    "# set ds as index and sort\n",
    "# this is a very important step!\n",
    "df = df.set_index('ds').sort_index()\n",
    "df.head()"
   ]
  },
  {
   "cell_type": "code",
   "execution_count": 7,
   "metadata": {},
   "outputs": [
    {
     "data": {
      "text/plain": [
       "(719459, 4)"
      ]
     },
     "execution_count": 7,
     "metadata": {},
     "output_type": "execute_result"
    }
   ],
   "source": [
    "df.shape"
   ]
  },
  {
   "cell_type": "code",
   "execution_count": 8,
   "metadata": {},
   "outputs": [
    {
     "data": {
      "text/plain": [
       "/                                        40122\n",
       "search/search_index.json                 15393\n",
       "javascript-i                             14551\n",
       "toc                                      14018\n",
       "java-iii                                 10835\n",
       "                                         ...  \n",
       "interview_questions                          1\n",
       "10.02.04_EntityLabeling.md                   1\n",
       "4-stats/2.2-probability_distributions        1\n",
       "examples/css//logincss                       1\n",
       "register.                                    1\n",
       "Name: request_method, Length: 2154, dtype: int64"
      ]
     },
     "execution_count": 8,
     "metadata": {},
     "output_type": "execute_result"
    }
   ],
   "source": [
    "df.request_method.value_counts()"
   ]
  },
  {
   "cell_type": "code",
   "execution_count": 9,
   "metadata": {},
   "outputs": [
    {
     "data": {
      "text/plain": [
       "97.105.19.58       268648\n",
       "97.105.19.61        60530\n",
       "192.171.117.210      8896\n",
       "71.150.217.33        4919\n",
       "12.106.208.194       4262\n",
       "                    ...  \n",
       "184.226.32.25           1\n",
       "107.77.221.76           1\n",
       "99.203.26.61            1\n",
       "136.50.24.156           1\n",
       "108.11.6.201            1\n",
       "Name: ip, Length: 4064, dtype: int64"
      ]
     },
     "execution_count": 9,
     "metadata": {},
     "output_type": "execute_result"
    }
   ],
   "source": [
    "df.ip.value_counts()"
   ]
  },
  {
   "cell_type": "code",
   "execution_count": 10,
   "metadata": {},
   "outputs": [
    {
     "data": {
      "text/plain": [
       "386"
      ]
     },
     "execution_count": 10,
     "metadata": {},
     "output_type": "execute_result"
    }
   ],
   "source": [
    "df.cohort_id.nunique()"
   ]
  },
  {
   "cell_type": "markdown",
   "metadata": {},
   "source": [
    "Some IP addresses accidentally got put in the ```cohort_id``` column, so I'm going to drop those rows."
   ]
  },
  {
   "cell_type": "code",
   "execution_count": 11,
   "metadata": {},
   "outputs": [
    {
     "data": {
      "text/html": [
       "<div>\n",
       "<style scoped>\n",
       "    .dataframe tbody tr th:only-of-type {\n",
       "        vertical-align: middle;\n",
       "    }\n",
       "\n",
       "    .dataframe tbody tr th {\n",
       "        vertical-align: top;\n",
       "    }\n",
       "\n",
       "    .dataframe thead th {\n",
       "        text-align: right;\n",
       "    }\n",
       "</style>\n",
       "<table border=\"1\" class=\"dataframe\">\n",
       "  <thead>\n",
       "    <tr style=\"text-align: right;\">\n",
       "      <th></th>\n",
       "      <th>request_method</th>\n",
       "      <th>user_id</th>\n",
       "      <th>cohort_id</th>\n",
       "      <th>ip</th>\n",
       "    </tr>\n",
       "    <tr>\n",
       "      <th>ds</th>\n",
       "      <th></th>\n",
       "      <th></th>\n",
       "      <th></th>\n",
       "      <th></th>\n",
       "    </tr>\n",
       "  </thead>\n",
       "  <tbody>\n",
       "    <tr>\n",
       "      <th>2018-01-26 09:55:03</th>\n",
       "      <td>/</td>\n",
       "      <td>1</td>\n",
       "      <td>8</td>\n",
       "      <td>97.105.19.61</td>\n",
       "    </tr>\n",
       "    <tr>\n",
       "      <th>2018-01-26 09:56:02</th>\n",
       "      <td>java-ii</td>\n",
       "      <td>1</td>\n",
       "      <td>8</td>\n",
       "      <td>97.105.19.61</td>\n",
       "    </tr>\n",
       "    <tr>\n",
       "      <th>2018-01-26 09:56:05</th>\n",
       "      <td>java-ii/object-oriented-programming</td>\n",
       "      <td>1</td>\n",
       "      <td>8</td>\n",
       "      <td>97.105.19.61</td>\n",
       "    </tr>\n",
       "    <tr>\n",
       "      <th>2018-01-26 09:56:06</th>\n",
       "      <td>slides/object_oriented_programming</td>\n",
       "      <td>1</td>\n",
       "      <td>8</td>\n",
       "      <td>97.105.19.61</td>\n",
       "    </tr>\n",
       "    <tr>\n",
       "      <th>2018-01-26 09:56:24</th>\n",
       "      <td>javascript-i/conditionals</td>\n",
       "      <td>2</td>\n",
       "      <td>22</td>\n",
       "      <td>97.105.19.61</td>\n",
       "    </tr>\n",
       "    <tr>\n",
       "      <th>...</th>\n",
       "      <td>...</td>\n",
       "      <td>...</td>\n",
       "      <td>...</td>\n",
       "      <td>...</td>\n",
       "    </tr>\n",
       "    <tr>\n",
       "      <th>2020-11-02 16:48:13</th>\n",
       "      <td>javascript-i/coffee-project</td>\n",
       "      <td>763</td>\n",
       "      <td>62</td>\n",
       "      <td>107.192.148.199</td>\n",
       "    </tr>\n",
       "    <tr>\n",
       "      <th>2020-11-02 16:48:17</th>\n",
       "      <td>javascript-i/mapbox-api</td>\n",
       "      <td>771</td>\n",
       "      <td>62</td>\n",
       "      <td>172.125.226.175</td>\n",
       "    </tr>\n",
       "    <tr>\n",
       "      <th>2020-11-02 16:48:18</th>\n",
       "      <td>javascript-i/coffee-project</td>\n",
       "      <td>771</td>\n",
       "      <td>62</td>\n",
       "      <td>172.125.226.175</td>\n",
       "    </tr>\n",
       "    <tr>\n",
       "      <th>2020-11-02 16:48:28</th>\n",
       "      <td>javascript-i/bom-and-dom/bom</td>\n",
       "      <td>771</td>\n",
       "      <td>62</td>\n",
       "      <td>172.125.226.175</td>\n",
       "    </tr>\n",
       "    <tr>\n",
       "      <th>2020-11-02 16:48:47</th>\n",
       "      <td>javascript-i/bom-and-dom/bom</td>\n",
       "      <td>763</td>\n",
       "      <td>62</td>\n",
       "      <td>107.192.148.199</td>\n",
       "    </tr>\n",
       "  </tbody>\n",
       "</table>\n",
       "<p>673973 rows × 4 columns</p>\n",
       "</div>"
      ],
      "text/plain": [
       "                                          request_method  user_id cohort_id  \\\n",
       "ds                                                                            \n",
       "2018-01-26 09:55:03                                    /        1         8   \n",
       "2018-01-26 09:56:02                              java-ii        1         8   \n",
       "2018-01-26 09:56:05  java-ii/object-oriented-programming        1         8   \n",
       "2018-01-26 09:56:06   slides/object_oriented_programming        1         8   \n",
       "2018-01-26 09:56:24            javascript-i/conditionals        2        22   \n",
       "...                                                  ...      ...       ...   \n",
       "2020-11-02 16:48:13          javascript-i/coffee-project      763        62   \n",
       "2020-11-02 16:48:17              javascript-i/mapbox-api      771        62   \n",
       "2020-11-02 16:48:18          javascript-i/coffee-project      771        62   \n",
       "2020-11-02 16:48:28         javascript-i/bom-and-dom/bom      771        62   \n",
       "2020-11-02 16:48:47         javascript-i/bom-and-dom/bom      763        62   \n",
       "\n",
       "                                  ip  \n",
       "ds                                    \n",
       "2018-01-26 09:55:03     97.105.19.61  \n",
       "2018-01-26 09:56:02     97.105.19.61  \n",
       "2018-01-26 09:56:05     97.105.19.61  \n",
       "2018-01-26 09:56:06     97.105.19.61  \n",
       "2018-01-26 09:56:24     97.105.19.61  \n",
       "...                              ...  \n",
       "2020-11-02 16:48:13  107.192.148.199  \n",
       "2020-11-02 16:48:17  172.125.226.175  \n",
       "2020-11-02 16:48:18  172.125.226.175  \n",
       "2020-11-02 16:48:28  172.125.226.175  \n",
       "2020-11-02 16:48:47  107.192.148.199  \n",
       "\n",
       "[673973 rows x 4 columns]"
      ]
     },
     "execution_count": 11,
     "metadata": {},
     "output_type": "execute_result"
    }
   ],
   "source": [
    "df = df.drop(df[df.cohort_id.str.len() > 4].index)\n",
    "df"
   ]
  },
  {
   "cell_type": "markdown",
   "metadata": {},
   "source": [
    "**Drop nulls**"
   ]
  },
  {
   "cell_type": "code",
   "execution_count": 12,
   "metadata": {},
   "outputs": [
    {
     "data": {
      "text/plain": [
       "request_method      0\n",
       "user_id             0\n",
       "cohort_id         420\n",
       "ip                  0\n",
       "dtype: int64"
      ]
     },
     "execution_count": 12,
     "metadata": {},
     "output_type": "execute_result"
    }
   ],
   "source": [
    "df.isna().sum()"
   ]
  },
  {
   "cell_type": "code",
   "execution_count": 13,
   "metadata": {},
   "outputs": [],
   "source": [
    "df = df.dropna()"
   ]
  },
  {
   "cell_type": "markdown",
   "metadata": {},
   "source": [
    "I noticed there are some requests that are just ```/```. In the interest of time, I am choosing to just drop those rows for now, as I didn't see any pattern to the distrubution of them and assume it's something to do with the syntax reading read in wrong or there being missing data in the raw data file I imported."
   ]
  },
  {
   "cell_type": "markdown",
   "metadata": {},
   "source": [
    "**Drop bad request_methods**"
   ]
  },
  {
   "cell_type": "code",
   "execution_count": 14,
   "metadata": {},
   "outputs": [
    {
     "data": {
      "text/html": [
       "<div>\n",
       "<style scoped>\n",
       "    .dataframe tbody tr th:only-of-type {\n",
       "        vertical-align: middle;\n",
       "    }\n",
       "\n",
       "    .dataframe tbody tr th {\n",
       "        vertical-align: top;\n",
       "    }\n",
       "\n",
       "    .dataframe thead th {\n",
       "        text-align: right;\n",
       "    }\n",
       "</style>\n",
       "<table border=\"1\" class=\"dataframe\">\n",
       "  <thead>\n",
       "    <tr style=\"text-align: right;\">\n",
       "      <th></th>\n",
       "      <th>request_method</th>\n",
       "      <th>user_id</th>\n",
       "      <th>cohort_id</th>\n",
       "      <th>ip</th>\n",
       "    </tr>\n",
       "    <tr>\n",
       "      <th>ds</th>\n",
       "      <th></th>\n",
       "      <th></th>\n",
       "      <th></th>\n",
       "      <th></th>\n",
       "    </tr>\n",
       "  </thead>\n",
       "  <tbody>\n",
       "    <tr>\n",
       "      <th>2018-01-26 09:55:03</th>\n",
       "      <td>/</td>\n",
       "      <td>1</td>\n",
       "      <td>8</td>\n",
       "      <td>97.105.19.61</td>\n",
       "    </tr>\n",
       "    <tr>\n",
       "      <th>2018-01-26 10:00:37</th>\n",
       "      <td>/</td>\n",
       "      <td>6</td>\n",
       "      <td>22</td>\n",
       "      <td>97.105.19.61</td>\n",
       "    </tr>\n",
       "    <tr>\n",
       "      <th>2018-01-26 10:00:39</th>\n",
       "      <td>javascript-i</td>\n",
       "      <td>6</td>\n",
       "      <td>22</td>\n",
       "      <td>97.105.19.61</td>\n",
       "    </tr>\n",
       "  </tbody>\n",
       "</table>\n",
       "</div>"
      ],
      "text/plain": [
       "                    request_method  user_id cohort_id            ip\n",
       "ds                                                                 \n",
       "2018-01-26 09:55:03              /        1         8  97.105.19.61\n",
       "2018-01-26 10:00:37              /        6        22  97.105.19.61\n",
       "2018-01-26 10:00:39   javascript-i        6        22  97.105.19.61"
      ]
     },
     "execution_count": 14,
     "metadata": {},
     "output_type": "execute_result"
    }
   ],
   "source": [
    "# there are over 10,000 of these '/' requests\n",
    "df.groupby(['request_method']).filter(lambda x : len(x)>10000).head(3)"
   ]
  },
  {
   "cell_type": "code",
   "execution_count": 15,
   "metadata": {},
   "outputs": [
    {
     "data": {
      "text/html": [
       "<div>\n",
       "<style scoped>\n",
       "    .dataframe tbody tr th:only-of-type {\n",
       "        vertical-align: middle;\n",
       "    }\n",
       "\n",
       "    .dataframe tbody tr th {\n",
       "        vertical-align: top;\n",
       "    }\n",
       "\n",
       "    .dataframe thead th {\n",
       "        text-align: right;\n",
       "    }\n",
       "</style>\n",
       "<table border=\"1\" class=\"dataframe\">\n",
       "  <thead>\n",
       "    <tr style=\"text-align: right;\">\n",
       "      <th></th>\n",
       "      <th>request_method</th>\n",
       "      <th>user_id</th>\n",
       "      <th>cohort_id</th>\n",
       "      <th>ip</th>\n",
       "    </tr>\n",
       "    <tr>\n",
       "      <th>ds</th>\n",
       "      <th></th>\n",
       "      <th></th>\n",
       "      <th></th>\n",
       "      <th></th>\n",
       "    </tr>\n",
       "  </thead>\n",
       "  <tbody>\n",
       "    <tr>\n",
       "      <th>2018-01-26 09:56:02</th>\n",
       "      <td>java-ii</td>\n",
       "      <td>1</td>\n",
       "      <td>8</td>\n",
       "      <td>97.105.19.61</td>\n",
       "    </tr>\n",
       "    <tr>\n",
       "      <th>2018-01-26 09:56:05</th>\n",
       "      <td>java-ii/object-oriented-programming</td>\n",
       "      <td>1</td>\n",
       "      <td>8</td>\n",
       "      <td>97.105.19.61</td>\n",
       "    </tr>\n",
       "    <tr>\n",
       "      <th>2018-01-26 09:56:06</th>\n",
       "      <td>slides/object_oriented_programming</td>\n",
       "      <td>1</td>\n",
       "      <td>8</td>\n",
       "      <td>97.105.19.61</td>\n",
       "    </tr>\n",
       "    <tr>\n",
       "      <th>2018-01-26 09:56:24</th>\n",
       "      <td>javascript-i/conditionals</td>\n",
       "      <td>2</td>\n",
       "      <td>22</td>\n",
       "      <td>97.105.19.61</td>\n",
       "    </tr>\n",
       "    <tr>\n",
       "      <th>2018-01-26 09:56:41</th>\n",
       "      <td>javascript-i/loops</td>\n",
       "      <td>2</td>\n",
       "      <td>22</td>\n",
       "      <td>97.105.19.61</td>\n",
       "    </tr>\n",
       "  </tbody>\n",
       "</table>\n",
       "</div>"
      ],
      "text/plain": [
       "                                          request_method  user_id cohort_id  \\\n",
       "ds                                                                            \n",
       "2018-01-26 09:56:02                              java-ii        1         8   \n",
       "2018-01-26 09:56:05  java-ii/object-oriented-programming        1         8   \n",
       "2018-01-26 09:56:06   slides/object_oriented_programming        1         8   \n",
       "2018-01-26 09:56:24            javascript-i/conditionals        2        22   \n",
       "2018-01-26 09:56:41                   javascript-i/loops        2        22   \n",
       "\n",
       "                               ip  \n",
       "ds                                 \n",
       "2018-01-26 09:56:02  97.105.19.61  \n",
       "2018-01-26 09:56:05  97.105.19.61  \n",
       "2018-01-26 09:56:06  97.105.19.61  \n",
       "2018-01-26 09:56:24  97.105.19.61  \n",
       "2018-01-26 09:56:41  97.105.19.61  "
      ]
     },
     "execution_count": 15,
     "metadata": {},
     "output_type": "execute_result"
    }
   ],
   "source": [
    "df = df.drop(df[df.request_method.str.len() < 2].index)\n",
    "df.head()"
   ]
  },
  {
   "cell_type": "markdown",
   "metadata": {},
   "source": [
    "**Split IP address into network and host**\n",
    " * **Reference**: https://docs.oracle.com/cd/E19504-01/802-5753/planning3-18471/index.html"
   ]
  },
  {
   "cell_type": "code",
   "execution_count": 16,
   "metadata": {},
   "outputs": [
    {
     "data": {
      "text/html": [
       "<div>\n",
       "<style scoped>\n",
       "    .dataframe tbody tr th:only-of-type {\n",
       "        vertical-align: middle;\n",
       "    }\n",
       "\n",
       "    .dataframe tbody tr th {\n",
       "        vertical-align: top;\n",
       "    }\n",
       "\n",
       "    .dataframe thead th {\n",
       "        text-align: right;\n",
       "    }\n",
       "</style>\n",
       "<table border=\"1\" class=\"dataframe\">\n",
       "  <thead>\n",
       "    <tr style=\"text-align: right;\">\n",
       "      <th></th>\n",
       "      <th>request_method</th>\n",
       "      <th>user_id</th>\n",
       "      <th>cohort_id</th>\n",
       "      <th>ip</th>\n",
       "      <th>network1</th>\n",
       "      <th>network2</th>\n",
       "      <th>host1</th>\n",
       "      <th>host2</th>\n",
       "    </tr>\n",
       "    <tr>\n",
       "      <th>ds</th>\n",
       "      <th></th>\n",
       "      <th></th>\n",
       "      <th></th>\n",
       "      <th></th>\n",
       "      <th></th>\n",
       "      <th></th>\n",
       "      <th></th>\n",
       "      <th></th>\n",
       "    </tr>\n",
       "  </thead>\n",
       "  <tbody>\n",
       "    <tr>\n",
       "      <th>2018-01-26 09:56:02</th>\n",
       "      <td>java-ii</td>\n",
       "      <td>1</td>\n",
       "      <td>8</td>\n",
       "      <td>97.105.19.61</td>\n",
       "      <td>97</td>\n",
       "      <td>105</td>\n",
       "      <td>19</td>\n",
       "      <td>61</td>\n",
       "    </tr>\n",
       "    <tr>\n",
       "      <th>2018-01-26 09:56:05</th>\n",
       "      <td>java-ii/object-oriented-programming</td>\n",
       "      <td>1</td>\n",
       "      <td>8</td>\n",
       "      <td>97.105.19.61</td>\n",
       "      <td>97</td>\n",
       "      <td>105</td>\n",
       "      <td>19</td>\n",
       "      <td>61</td>\n",
       "    </tr>\n",
       "    <tr>\n",
       "      <th>2018-01-26 09:56:06</th>\n",
       "      <td>slides/object_oriented_programming</td>\n",
       "      <td>1</td>\n",
       "      <td>8</td>\n",
       "      <td>97.105.19.61</td>\n",
       "      <td>97</td>\n",
       "      <td>105</td>\n",
       "      <td>19</td>\n",
       "      <td>61</td>\n",
       "    </tr>\n",
       "    <tr>\n",
       "      <th>2018-01-26 09:56:24</th>\n",
       "      <td>javascript-i/conditionals</td>\n",
       "      <td>2</td>\n",
       "      <td>22</td>\n",
       "      <td>97.105.19.61</td>\n",
       "      <td>97</td>\n",
       "      <td>105</td>\n",
       "      <td>19</td>\n",
       "      <td>61</td>\n",
       "    </tr>\n",
       "    <tr>\n",
       "      <th>2018-01-26 09:56:41</th>\n",
       "      <td>javascript-i/loops</td>\n",
       "      <td>2</td>\n",
       "      <td>22</td>\n",
       "      <td>97.105.19.61</td>\n",
       "      <td>97</td>\n",
       "      <td>105</td>\n",
       "      <td>19</td>\n",
       "      <td>61</td>\n",
       "    </tr>\n",
       "  </tbody>\n",
       "</table>\n",
       "</div>"
      ],
      "text/plain": [
       "                                          request_method  user_id cohort_id  \\\n",
       "ds                                                                            \n",
       "2018-01-26 09:56:02                              java-ii        1         8   \n",
       "2018-01-26 09:56:05  java-ii/object-oriented-programming        1         8   \n",
       "2018-01-26 09:56:06   slides/object_oriented_programming        1         8   \n",
       "2018-01-26 09:56:24            javascript-i/conditionals        2        22   \n",
       "2018-01-26 09:56:41                   javascript-i/loops        2        22   \n",
       "\n",
       "                               ip network1 network2 host1 host2  \n",
       "ds                                                               \n",
       "2018-01-26 09:56:02  97.105.19.61       97      105    19    61  \n",
       "2018-01-26 09:56:05  97.105.19.61       97      105    19    61  \n",
       "2018-01-26 09:56:06  97.105.19.61       97      105    19    61  \n",
       "2018-01-26 09:56:24  97.105.19.61       97      105    19    61  \n",
       "2018-01-26 09:56:41  97.105.19.61       97      105    19    61  "
      ]
     },
     "execution_count": 16,
     "metadata": {},
     "output_type": "execute_result"
    }
   ],
   "source": [
    "df[['network1','network2', 'host1', 'host2']] = df.ip.str.split(\".\",expand=True)\n",
    "df.head()"
   ]
  },
  {
   "cell_type": "code",
   "execution_count": 17,
   "metadata": {},
   "outputs": [
    {
     "data": {
      "text/html": [
       "<div>\n",
       "<style scoped>\n",
       "    .dataframe tbody tr th:only-of-type {\n",
       "        vertical-align: middle;\n",
       "    }\n",
       "\n",
       "    .dataframe tbody tr th {\n",
       "        vertical-align: top;\n",
       "    }\n",
       "\n",
       "    .dataframe thead th {\n",
       "        text-align: right;\n",
       "    }\n",
       "</style>\n",
       "<table border=\"1\" class=\"dataframe\">\n",
       "  <thead>\n",
       "    <tr style=\"text-align: right;\">\n",
       "      <th></th>\n",
       "      <th>request_method</th>\n",
       "      <th>user_id</th>\n",
       "      <th>cohort_id</th>\n",
       "      <th>ip</th>\n",
       "      <th>network1</th>\n",
       "      <th>network2</th>\n",
       "      <th>host1</th>\n",
       "      <th>host2</th>\n",
       "      <th>network</th>\n",
       "      <th>host</th>\n",
       "    </tr>\n",
       "    <tr>\n",
       "      <th>ds</th>\n",
       "      <th></th>\n",
       "      <th></th>\n",
       "      <th></th>\n",
       "      <th></th>\n",
       "      <th></th>\n",
       "      <th></th>\n",
       "      <th></th>\n",
       "      <th></th>\n",
       "      <th></th>\n",
       "      <th></th>\n",
       "    </tr>\n",
       "  </thead>\n",
       "  <tbody>\n",
       "    <tr>\n",
       "      <th>2018-01-26 09:56:02</th>\n",
       "      <td>java-ii</td>\n",
       "      <td>1</td>\n",
       "      <td>8</td>\n",
       "      <td>97.105.19.61</td>\n",
       "      <td>97</td>\n",
       "      <td>105</td>\n",
       "      <td>19</td>\n",
       "      <td>61</td>\n",
       "      <td>97105</td>\n",
       "      <td>1961</td>\n",
       "    </tr>\n",
       "    <tr>\n",
       "      <th>2018-01-26 09:56:05</th>\n",
       "      <td>java-ii/object-oriented-programming</td>\n",
       "      <td>1</td>\n",
       "      <td>8</td>\n",
       "      <td>97.105.19.61</td>\n",
       "      <td>97</td>\n",
       "      <td>105</td>\n",
       "      <td>19</td>\n",
       "      <td>61</td>\n",
       "      <td>97105</td>\n",
       "      <td>1961</td>\n",
       "    </tr>\n",
       "    <tr>\n",
       "      <th>2018-01-26 09:56:06</th>\n",
       "      <td>slides/object_oriented_programming</td>\n",
       "      <td>1</td>\n",
       "      <td>8</td>\n",
       "      <td>97.105.19.61</td>\n",
       "      <td>97</td>\n",
       "      <td>105</td>\n",
       "      <td>19</td>\n",
       "      <td>61</td>\n",
       "      <td>97105</td>\n",
       "      <td>1961</td>\n",
       "    </tr>\n",
       "    <tr>\n",
       "      <th>2018-01-26 09:56:24</th>\n",
       "      <td>javascript-i/conditionals</td>\n",
       "      <td>2</td>\n",
       "      <td>22</td>\n",
       "      <td>97.105.19.61</td>\n",
       "      <td>97</td>\n",
       "      <td>105</td>\n",
       "      <td>19</td>\n",
       "      <td>61</td>\n",
       "      <td>97105</td>\n",
       "      <td>1961</td>\n",
       "    </tr>\n",
       "    <tr>\n",
       "      <th>2018-01-26 09:56:41</th>\n",
       "      <td>javascript-i/loops</td>\n",
       "      <td>2</td>\n",
       "      <td>22</td>\n",
       "      <td>97.105.19.61</td>\n",
       "      <td>97</td>\n",
       "      <td>105</td>\n",
       "      <td>19</td>\n",
       "      <td>61</td>\n",
       "      <td>97105</td>\n",
       "      <td>1961</td>\n",
       "    </tr>\n",
       "  </tbody>\n",
       "</table>\n",
       "</div>"
      ],
      "text/plain": [
       "                                          request_method  user_id cohort_id  \\\n",
       "ds                                                                            \n",
       "2018-01-26 09:56:02                              java-ii        1         8   \n",
       "2018-01-26 09:56:05  java-ii/object-oriented-programming        1         8   \n",
       "2018-01-26 09:56:06   slides/object_oriented_programming        1         8   \n",
       "2018-01-26 09:56:24            javascript-i/conditionals        2        22   \n",
       "2018-01-26 09:56:41                   javascript-i/loops        2        22   \n",
       "\n",
       "                               ip network1 network2 host1 host2 network  host  \n",
       "ds                                                                             \n",
       "2018-01-26 09:56:02  97.105.19.61       97      105    19    61   97105  1961  \n",
       "2018-01-26 09:56:05  97.105.19.61       97      105    19    61   97105  1961  \n",
       "2018-01-26 09:56:06  97.105.19.61       97      105    19    61   97105  1961  \n",
       "2018-01-26 09:56:24  97.105.19.61       97      105    19    61   97105  1961  \n",
       "2018-01-26 09:56:41  97.105.19.61       97      105    19    61   97105  1961  "
      ]
     },
     "execution_count": 17,
     "metadata": {},
     "output_type": "execute_result"
    }
   ],
   "source": [
    "df['network'] = df['network1'] + df['network2']\n",
    "df['host'] = df['host1'] + df['host2']\n",
    "df.head()"
   ]
  },
  {
   "cell_type": "markdown",
   "metadata": {},
   "source": [
    "**I notice that there is at least one instance of a different user_id under the same exact IP address. Might be a typo, or just something I don't understand about IP addresses.**"
   ]
  },
  {
   "cell_type": "code",
   "execution_count": 18,
   "metadata": {},
   "outputs": [
    {
     "data": {
      "text/html": [
       "<div>\n",
       "<style scoped>\n",
       "    .dataframe tbody tr th:only-of-type {\n",
       "        vertical-align: middle;\n",
       "    }\n",
       "\n",
       "    .dataframe tbody tr th {\n",
       "        vertical-align: top;\n",
       "    }\n",
       "\n",
       "    .dataframe thead th {\n",
       "        text-align: right;\n",
       "    }\n",
       "</style>\n",
       "<table border=\"1\" class=\"dataframe\">\n",
       "  <thead>\n",
       "    <tr style=\"text-align: right;\">\n",
       "      <th></th>\n",
       "      <th>request_method</th>\n",
       "      <th>user_id</th>\n",
       "      <th>cohort_id</th>\n",
       "      <th>ip</th>\n",
       "      <th>network</th>\n",
       "      <th>host</th>\n",
       "    </tr>\n",
       "    <tr>\n",
       "      <th>ds</th>\n",
       "      <th></th>\n",
       "      <th></th>\n",
       "      <th></th>\n",
       "      <th></th>\n",
       "      <th></th>\n",
       "      <th></th>\n",
       "    </tr>\n",
       "  </thead>\n",
       "  <tbody>\n",
       "    <tr>\n",
       "      <th>2018-01-26 09:56:02</th>\n",
       "      <td>java-ii</td>\n",
       "      <td>1</td>\n",
       "      <td>8</td>\n",
       "      <td>97.105.19.61</td>\n",
       "      <td>97105</td>\n",
       "      <td>1961</td>\n",
       "    </tr>\n",
       "    <tr>\n",
       "      <th>2018-01-26 09:56:05</th>\n",
       "      <td>java-ii/object-oriented-programming</td>\n",
       "      <td>1</td>\n",
       "      <td>8</td>\n",
       "      <td>97.105.19.61</td>\n",
       "      <td>97105</td>\n",
       "      <td>1961</td>\n",
       "    </tr>\n",
       "    <tr>\n",
       "      <th>2018-01-26 09:56:06</th>\n",
       "      <td>slides/object_oriented_programming</td>\n",
       "      <td>1</td>\n",
       "      <td>8</td>\n",
       "      <td>97.105.19.61</td>\n",
       "      <td>97105</td>\n",
       "      <td>1961</td>\n",
       "    </tr>\n",
       "    <tr>\n",
       "      <th>2018-01-26 09:56:24</th>\n",
       "      <td>javascript-i/conditionals</td>\n",
       "      <td>2</td>\n",
       "      <td>22</td>\n",
       "      <td>97.105.19.61</td>\n",
       "      <td>97105</td>\n",
       "      <td>1961</td>\n",
       "    </tr>\n",
       "    <tr>\n",
       "      <th>2018-01-26 09:56:41</th>\n",
       "      <td>javascript-i/loops</td>\n",
       "      <td>2</td>\n",
       "      <td>22</td>\n",
       "      <td>97.105.19.61</td>\n",
       "      <td>97105</td>\n",
       "      <td>1961</td>\n",
       "    </tr>\n",
       "  </tbody>\n",
       "</table>\n",
       "</div>"
      ],
      "text/plain": [
       "                                          request_method  user_id cohort_id  \\\n",
       "ds                                                                            \n",
       "2018-01-26 09:56:02                              java-ii        1         8   \n",
       "2018-01-26 09:56:05  java-ii/object-oriented-programming        1         8   \n",
       "2018-01-26 09:56:06   slides/object_oriented_programming        1         8   \n",
       "2018-01-26 09:56:24            javascript-i/conditionals        2        22   \n",
       "2018-01-26 09:56:41                   javascript-i/loops        2        22   \n",
       "\n",
       "                               ip network  host  \n",
       "ds                                               \n",
       "2018-01-26 09:56:02  97.105.19.61   97105  1961  \n",
       "2018-01-26 09:56:05  97.105.19.61   97105  1961  \n",
       "2018-01-26 09:56:06  97.105.19.61   97105  1961  \n",
       "2018-01-26 09:56:24  97.105.19.61   97105  1961  \n",
       "2018-01-26 09:56:41  97.105.19.61   97105  1961  "
      ]
     },
     "execution_count": 18,
     "metadata": {},
     "output_type": "execute_result"
    }
   ],
   "source": [
    "df = df.drop(columns=['network1', 'network2', 'host1', 'host2'])\n",
    "df.head()"
   ]
  },
  {
   "cell_type": "code",
   "execution_count": 19,
   "metadata": {},
   "outputs": [
    {
     "data": {
      "text/plain": [
       "700"
      ]
     },
     "execution_count": 19,
     "metadata": {},
     "output_type": "execute_result"
    }
   ],
   "source": [
    "df.network.nunique()"
   ]
  },
  {
   "cell_type": "code",
   "execution_count": 20,
   "metadata": {},
   "outputs": [
    {
     "data": {
      "text/plain": [
       "3727"
      ]
     },
     "execution_count": 20,
     "metadata": {},
     "output_type": "execute_result"
    }
   ],
   "source": [
    "df.host.nunique()"
   ]
  },
  {
   "cell_type": "markdown",
   "metadata": {},
   "source": [
    "### Explore & Feature Engineering"
   ]
  },
  {
   "cell_type": "code",
   "execution_count": 21,
   "metadata": {},
   "outputs": [
    {
     "data": {
      "text/html": [
       "<div>\n",
       "<style scoped>\n",
       "    .dataframe tbody tr th:only-of-type {\n",
       "        vertical-align: middle;\n",
       "    }\n",
       "\n",
       "    .dataframe tbody tr th {\n",
       "        vertical-align: top;\n",
       "    }\n",
       "\n",
       "    .dataframe thead th {\n",
       "        text-align: right;\n",
       "    }\n",
       "</style>\n",
       "<table border=\"1\" class=\"dataframe\">\n",
       "  <thead>\n",
       "    <tr style=\"text-align: right;\">\n",
       "      <th></th>\n",
       "      <th>ip</th>\n",
       "    </tr>\n",
       "    <tr>\n",
       "      <th>event_count</th>\n",
       "      <th></th>\n",
       "    </tr>\n",
       "  </thead>\n",
       "  <tbody>\n",
       "    <tr>\n",
       "      <th>1</th>\n",
       "      <td>537</td>\n",
       "    </tr>\n",
       "    <tr>\n",
       "      <th>2</th>\n",
       "      <td>511</td>\n",
       "    </tr>\n",
       "    <tr>\n",
       "      <th>3</th>\n",
       "      <td>313</td>\n",
       "    </tr>\n",
       "    <tr>\n",
       "      <th>4</th>\n",
       "      <td>238</td>\n",
       "    </tr>\n",
       "    <tr>\n",
       "      <th>5</th>\n",
       "      <td>184</td>\n",
       "    </tr>\n",
       "    <tr>\n",
       "      <th>...</th>\n",
       "      <td>...</td>\n",
       "    </tr>\n",
       "    <tr>\n",
       "      <th>4077</th>\n",
       "      <td>1</td>\n",
       "    </tr>\n",
       "    <tr>\n",
       "      <th>4590</th>\n",
       "      <td>1</td>\n",
       "    </tr>\n",
       "    <tr>\n",
       "      <th>8447</th>\n",
       "      <td>1</td>\n",
       "    </tr>\n",
       "    <tr>\n",
       "      <th>57520</th>\n",
       "      <td>1</td>\n",
       "    </tr>\n",
       "    <tr>\n",
       "      <th>256779</th>\n",
       "      <td>1</td>\n",
       "    </tr>\n",
       "  </tbody>\n",
       "</table>\n",
       "<p>473 rows × 1 columns</p>\n",
       "</div>"
      ],
      "text/plain": [
       "              ip\n",
       "event_count     \n",
       "1            537\n",
       "2            511\n",
       "3            313\n",
       "4            238\n",
       "5            184\n",
       "...          ...\n",
       "4077           1\n",
       "4590           1\n",
       "8447           1\n",
       "57520          1\n",
       "256779         1\n",
       "\n",
       "[473 rows x 1 columns]"
      ]
     },
     "execution_count": 21,
     "metadata": {},
     "output_type": "execute_result"
    }
   ],
   "source": [
    "# create dataframe out of value counts\n",
    "ip_counts = pd.DataFrame(df.ip.value_counts()).reset_index()\n",
    "\n",
    "# rename columns\n",
    "ip_counts.columns=['ip', 'event_count']\n",
    "\n",
    "# get the number of ip addresses seen 1, or 2, or 11,998 times. \n",
    "ip_counts.groupby(['event_count']).count()"
   ]
  },
  {
   "cell_type": "code",
   "execution_count": 22,
   "metadata": {},
   "outputs": [
    {
     "data": {
      "text/plain": [
       "4.149481083203116"
      ]
     },
     "execution_count": 22,
     "metadata": {},
     "output_type": "execute_result"
    }
   ],
   "source": [
    "# pass the entropy function an array-like object of counts. \n",
    "entropy(ip_counts.event_count)"
   ]
  },
  {
   "cell_type": "markdown",
   "metadata": {},
   "source": [
    "**Make darden_df for just dates from Darden cohort**"
   ]
  },
  {
   "cell_type": "code",
   "execution_count": 23,
   "metadata": {},
   "outputs": [
    {
     "data": {
      "text/html": [
       "<div>\n",
       "<style scoped>\n",
       "    .dataframe tbody tr th:only-of-type {\n",
       "        vertical-align: middle;\n",
       "    }\n",
       "\n",
       "    .dataframe tbody tr th {\n",
       "        vertical-align: top;\n",
       "    }\n",
       "\n",
       "    .dataframe thead th {\n",
       "        text-align: right;\n",
       "    }\n",
       "</style>\n",
       "<table border=\"1\" class=\"dataframe\">\n",
       "  <thead>\n",
       "    <tr style=\"text-align: right;\">\n",
       "      <th></th>\n",
       "      <th>request_method</th>\n",
       "      <th>user_id</th>\n",
       "      <th>cohort_id</th>\n",
       "      <th>ip</th>\n",
       "      <th>network</th>\n",
       "      <th>host</th>\n",
       "    </tr>\n",
       "    <tr>\n",
       "      <th>ds</th>\n",
       "      <th></th>\n",
       "      <th></th>\n",
       "      <th></th>\n",
       "      <th></th>\n",
       "      <th></th>\n",
       "      <th></th>\n",
       "    </tr>\n",
       "  </thead>\n",
       "  <tbody>\n",
       "    <tr>\n",
       "      <th>2020-11-02 16:48:28</th>\n",
       "      <td>javascript-i/bom-and-dom/bom</td>\n",
       "      <td>771</td>\n",
       "      <td>62</td>\n",
       "      <td>172.125.226.175</td>\n",
       "      <td>172125</td>\n",
       "      <td>226175</td>\n",
       "    </tr>\n",
       "    <tr>\n",
       "      <th>2020-11-02 16:48:47</th>\n",
       "      <td>javascript-i/bom-and-dom/bom</td>\n",
       "      <td>763</td>\n",
       "      <td>62</td>\n",
       "      <td>107.192.148.199</td>\n",
       "      <td>107192</td>\n",
       "      <td>148199</td>\n",
       "    </tr>\n",
       "  </tbody>\n",
       "</table>\n",
       "</div>"
      ],
      "text/plain": [
       "                                   request_method  user_id cohort_id  \\\n",
       "ds                                                                     \n",
       "2020-11-02 16:48:28  javascript-i/bom-and-dom/bom      771        62   \n",
       "2020-11-02 16:48:47  javascript-i/bom-and-dom/bom      763        62   \n",
       "\n",
       "                                  ip network    host  \n",
       "ds                                                    \n",
       "2020-11-02 16:48:28  172.125.226.175  172125  226175  \n",
       "2020-11-02 16:48:47  107.192.148.199  107192  148199  "
      ]
     },
     "execution_count": 23,
     "metadata": {},
     "output_type": "execute_result"
    }
   ],
   "source": [
    "df.tail(2)"
   ]
  },
  {
   "cell_type": "code",
   "execution_count": 24,
   "metadata": {},
   "outputs": [
    {
     "data": {
      "text/html": [
       "<div>\n",
       "<style scoped>\n",
       "    .dataframe tbody tr th:only-of-type {\n",
       "        vertical-align: middle;\n",
       "    }\n",
       "\n",
       "    .dataframe tbody tr th {\n",
       "        vertical-align: top;\n",
       "    }\n",
       "\n",
       "    .dataframe thead th {\n",
       "        text-align: right;\n",
       "    }\n",
       "</style>\n",
       "<table border=\"1\" class=\"dataframe\">\n",
       "  <thead>\n",
       "    <tr style=\"text-align: right;\">\n",
       "      <th></th>\n",
       "      <th>request_method</th>\n",
       "      <th>user_id</th>\n",
       "      <th>cohort_id</th>\n",
       "      <th>ip</th>\n",
       "      <th>network</th>\n",
       "      <th>host</th>\n",
       "    </tr>\n",
       "    <tr>\n",
       "      <th>ds</th>\n",
       "      <th></th>\n",
       "      <th></th>\n",
       "      <th></th>\n",
       "      <th></th>\n",
       "      <th></th>\n",
       "      <th></th>\n",
       "    </tr>\n",
       "  </thead>\n",
       "  <tbody>\n",
       "    <tr>\n",
       "      <th>2020-07-13 00:00:19</th>\n",
       "      <td>appendix</td>\n",
       "      <td>633</td>\n",
       "      <td>57</td>\n",
       "      <td>24.26.242.224</td>\n",
       "      <td>2426</td>\n",
       "      <td>242224</td>\n",
       "    </tr>\n",
       "    <tr>\n",
       "      <th>2020-07-13 00:00:23</th>\n",
       "      <td>appendix/professional-development/linkedin-tips</td>\n",
       "      <td>633</td>\n",
       "      <td>57</td>\n",
       "      <td>24.26.242.224</td>\n",
       "      <td>2426</td>\n",
       "      <td>242224</td>\n",
       "    </tr>\n",
       "  </tbody>\n",
       "</table>\n",
       "</div>"
      ],
      "text/plain": [
       "                                                      request_method  user_id  \\\n",
       "ds                                                                              \n",
       "2020-07-13 00:00:19                                         appendix      633   \n",
       "2020-07-13 00:00:23  appendix/professional-development/linkedin-tips      633   \n",
       "\n",
       "                    cohort_id             ip network    host  \n",
       "ds                                                            \n",
       "2020-07-13 00:00:19        57  24.26.242.224    2426  242224  \n",
       "2020-07-13 00:00:23        57  24.26.242.224    2426  242224  "
      ]
     },
     "execution_count": 24,
     "metadata": {},
     "output_type": "execute_result"
    }
   ],
   "source": [
    "darden_df = df.loc['2020-07-13':'2020-11-02']\n",
    "darden_df.head(2)"
   ]
  },
  {
   "cell_type": "code",
   "execution_count": 25,
   "metadata": {},
   "outputs": [
    {
     "data": {
      "text/plain": [
       "(98631, 6)"
      ]
     },
     "execution_count": 25,
     "metadata": {},
     "output_type": "execute_result"
    }
   ],
   "source": [
    "darden_df.shape"
   ]
  },
  {
   "cell_type": "markdown",
   "metadata": {},
   "source": [
    "### Geolocation Exploration"
   ]
  },
  {
   "cell_type": "markdown",
   "metadata": {},
   "source": [
    "**Add City Feature**"
   ]
  },
  {
   "cell_type": "code",
   "execution_count": 26,
   "metadata": {},
   "outputs": [],
   "source": [
    "def add_city(ip):\n",
    "    try:\n",
    "        response = reader.city(ip)\n",
    "        city_name = response.city.name\n",
    "        return city_name\n",
    "    except:\n",
    "        return np.nan"
   ]
  },
  {
   "cell_type": "code",
   "execution_count": 27,
   "metadata": {},
   "outputs": [],
   "source": [
    "darden_df['city'] = darden_df.apply(lambda darden_df: add_city(darden_df['ip']),axis=1)"
   ]
  },
  {
   "cell_type": "code",
   "execution_count": 28,
   "metadata": {},
   "outputs": [
    {
     "data": {
      "text/html": [
       "<div>\n",
       "<style scoped>\n",
       "    .dataframe tbody tr th:only-of-type {\n",
       "        vertical-align: middle;\n",
       "    }\n",
       "\n",
       "    .dataframe tbody tr th {\n",
       "        vertical-align: top;\n",
       "    }\n",
       "\n",
       "    .dataframe thead th {\n",
       "        text-align: right;\n",
       "    }\n",
       "</style>\n",
       "<table border=\"1\" class=\"dataframe\">\n",
       "  <thead>\n",
       "    <tr style=\"text-align: right;\">\n",
       "      <th></th>\n",
       "      <th>request_method</th>\n",
       "      <th>user_id</th>\n",
       "      <th>cohort_id</th>\n",
       "      <th>ip</th>\n",
       "      <th>network</th>\n",
       "      <th>host</th>\n",
       "      <th>city</th>\n",
       "    </tr>\n",
       "    <tr>\n",
       "      <th>ds</th>\n",
       "      <th></th>\n",
       "      <th></th>\n",
       "      <th></th>\n",
       "      <th></th>\n",
       "      <th></th>\n",
       "      <th></th>\n",
       "      <th></th>\n",
       "    </tr>\n",
       "  </thead>\n",
       "  <tbody>\n",
       "    <tr>\n",
       "      <th>2020-07-13 00:00:19</th>\n",
       "      <td>appendix</td>\n",
       "      <td>633</td>\n",
       "      <td>57</td>\n",
       "      <td>24.26.242.224</td>\n",
       "      <td>2426</td>\n",
       "      <td>242224</td>\n",
       "      <td>San Antonio</td>\n",
       "    </tr>\n",
       "    <tr>\n",
       "      <th>2020-07-13 00:00:23</th>\n",
       "      <td>appendix/professional-development/linkedin-tips</td>\n",
       "      <td>633</td>\n",
       "      <td>57</td>\n",
       "      <td>24.26.242.224</td>\n",
       "      <td>2426</td>\n",
       "      <td>242224</td>\n",
       "      <td>San Antonio</td>\n",
       "    </tr>\n",
       "    <tr>\n",
       "      <th>2020-07-13 00:04:59</th>\n",
       "      <td>appendix/professional-development/cover-letter</td>\n",
       "      <td>614</td>\n",
       "      <td>56</td>\n",
       "      <td>174.67.1.123</td>\n",
       "      <td>17467</td>\n",
       "      <td>1123</td>\n",
       "      <td>Oklahoma City</td>\n",
       "    </tr>\n",
       "    <tr>\n",
       "      <th>2020-07-13 00:05:49</th>\n",
       "      <td>spring/fundamentals/security/authentication</td>\n",
       "      <td>606</td>\n",
       "      <td>56</td>\n",
       "      <td>76.187.7.114</td>\n",
       "      <td>76187</td>\n",
       "      <td>7114</td>\n",
       "      <td>Garland</td>\n",
       "    </tr>\n",
       "    <tr>\n",
       "      <th>2020-07-13 00:52:09</th>\n",
       "      <td>javascript-i/arrays</td>\n",
       "      <td>672</td>\n",
       "      <td>58</td>\n",
       "      <td>67.11.50.23</td>\n",
       "      <td>6711</td>\n",
       "      <td>5023</td>\n",
       "      <td>Boerne</td>\n",
       "    </tr>\n",
       "  </tbody>\n",
       "</table>\n",
       "</div>"
      ],
      "text/plain": [
       "                                                      request_method  user_id  \\\n",
       "ds                                                                              \n",
       "2020-07-13 00:00:19                                         appendix      633   \n",
       "2020-07-13 00:00:23  appendix/professional-development/linkedin-tips      633   \n",
       "2020-07-13 00:04:59   appendix/professional-development/cover-letter      614   \n",
       "2020-07-13 00:05:49      spring/fundamentals/security/authentication      606   \n",
       "2020-07-13 00:52:09                              javascript-i/arrays      672   \n",
       "\n",
       "                    cohort_id             ip network    host           city  \n",
       "ds                                                                           \n",
       "2020-07-13 00:00:19        57  24.26.242.224    2426  242224    San Antonio  \n",
       "2020-07-13 00:00:23        57  24.26.242.224    2426  242224    San Antonio  \n",
       "2020-07-13 00:04:59        56   174.67.1.123   17467    1123  Oklahoma City  \n",
       "2020-07-13 00:05:49        56   76.187.7.114   76187    7114        Garland  \n",
       "2020-07-13 00:52:09        58    67.11.50.23    6711    5023         Boerne  "
      ]
     },
     "execution_count": 28,
     "metadata": {},
     "output_type": "execute_result"
    }
   ],
   "source": [
    "darden_df.head()"
   ]
  },
  {
   "cell_type": "code",
   "execution_count": 29,
   "metadata": {},
   "outputs": [
    {
     "data": {
      "text/plain": [
       "105"
      ]
     },
     "execution_count": 29,
     "metadata": {},
     "output_type": "execute_result"
    }
   ],
   "source": [
    "darden_df.city.nunique()"
   ]
  },
  {
   "cell_type": "code",
   "execution_count": 30,
   "metadata": {
    "scrolled": true
   },
   "outputs": [
    {
     "data": {
      "text/plain": [
       "San Antonio      68077\n",
       "Dallas            5451\n",
       "Boerne            3315\n",
       "New Braunfels     1966\n",
       "Austin            1491\n",
       "                 ...  \n",
       "Bulverde             1\n",
       "Beaumont             1\n",
       "Floresville          1\n",
       "Whittier             1\n",
       "Marfa                1\n",
       "Name: city, Length: 105, dtype: int64"
      ]
     },
     "execution_count": 30,
     "metadata": {},
     "output_type": "execute_result"
    }
   ],
   "source": [
    "darden_df.city.value_counts()"
   ]
  },
  {
   "cell_type": "code",
   "execution_count": 31,
   "metadata": {},
   "outputs": [
    {
     "data": {
      "text/plain": [
       "(98631, 7)"
      ]
     },
     "execution_count": 31,
     "metadata": {},
     "output_type": "execute_result"
    }
   ],
   "source": [
    "darden_df.shape"
   ]
  },
  {
   "cell_type": "code",
   "execution_count": 32,
   "metadata": {},
   "outputs": [
    {
     "data": {
      "text/plain": [
       "11"
      ]
     },
     "execution_count": 32,
     "metadata": {},
     "output_type": "execute_result"
    }
   ],
   "source": [
    "city_plot_df = darden_df.groupby('city').filter(lambda x : len(x)>900)\n",
    "city_plot_df.city.nunique()"
   ]
  },
  {
   "cell_type": "code",
   "execution_count": 33,
   "metadata": {},
   "outputs": [
    {
     "data": {
      "image/png": "[encoded data removed]",
      "text/plain": [
       "<Figure size 1008x648 with 1 Axes>"
      ]
     },
     "metadata": {
      "needs_background": "light"
     },
     "output_type": "display_data"
    }
   ],
   "source": [
    "city_plot_df['city'].value_counts().plot(kind='bar')\n",
    "plt.title('Distribution of Top Cities from IP Addresses during Darden')\n",
    "plt.show()"
   ]
  },
  {
   "cell_type": "code",
   "execution_count": 34,
   "metadata": {},
   "outputs": [
    {
     "data": {
      "image/png": "[encoded data removed]",
      "text/plain": [
       "<Figure size 1008x648 with 1 Axes>"
      ]
     },
     "metadata": {
      "needs_background": "light"
     },
     "output_type": "display_data"
    }
   ],
   "source": [
    "city_plot_df['city'].drop(city_plot_df[city_plot_df.city == 'San Antonio'].index).value_counts().plot(kind='bar')\n",
    "plt.title('Top Cities During Darden, Without San Antonio')\n",
    "plt.show()"
   ]
  },
  {
   "cell_type": "code",
   "execution_count": 35,
   "metadata": {},
   "outputs": [
    {
     "data": {
      "text/plain": [
       "15"
      ]
     },
     "execution_count": 35,
     "metadata": {},
     "output_type": "execute_result"
    }
   ],
   "source": [
    "city_plot_anomalies = darden_df.groupby('city').filter(lambda x : len(x)<3)\n",
    "city_plot_anomalies.city.nunique()"
   ]
  },
  {
   "cell_type": "code",
   "execution_count": 36,
   "metadata": {},
   "outputs": [
    {
     "data": {
      "image/png": "[encoded data removed]",
      "text/plain": [
       "<Figure size 1008x648 with 1 Axes>"
      ]
     },
     "metadata": {
      "needs_background": "light"
     },
     "output_type": "display_data"
    }
   ],
   "source": [
    "city_plot_anomalies['city'].value_counts().plot(kind='bar')\n",
    "plt.title('Anomaly Cities from IP Addresses During Darden')\n",
    "plt.show()"
   ]
  },
  {
   "cell_type": "markdown",
   "metadata": {},
   "source": [
    "**Takeaways:** Mexico City and Palestine (it seems GeoLite couldn't acquire the city in some places and gave me the country instead) are in other countries, so I'm going to see if I can zoom in on geolocations from outside the USA."
   ]
  },
  {
   "cell_type": "markdown",
   "metadata": {},
   "source": [
    "**Create Country feature**\n",
    "\n",
    "Note: Still working with just the Darden duration data so that my geolocation code isn't too computationally expensive."
   ]
  },
  {
   "cell_type": "code",
   "execution_count": 37,
   "metadata": {},
   "outputs": [],
   "source": [
    "def add_country(ip):\n",
    "    try:\n",
    "        response = reader.city(ip)\n",
    "        country_name = response.country.name\n",
    "        return country_name\n",
    "    except:\n",
    "        return np.nan"
   ]
  },
  {
   "cell_type": "code",
   "execution_count": 38,
   "metadata": {},
   "outputs": [],
   "source": [
    "darden_df['country'] = darden_df.apply(lambda darden_df: add_country(darden_df['ip']),axis=1)"
   ]
  },
  {
   "cell_type": "code",
   "execution_count": 39,
   "metadata": {},
   "outputs": [
    {
     "data": {
      "text/plain": [
       "1"
      ]
     },
     "execution_count": 39,
     "metadata": {},
     "output_type": "execute_result"
    }
   ],
   "source": [
    "darden_df.country.nunique()\n",
    "darden_df.country.value_counts()\n",
    "country_plot_df = darden_df.groupby('country').filter(lambda x : len(x)>900)\n",
    "country_plot_df.country.nunique()"
   ]
  },
  {
   "cell_type": "code",
   "execution_count": 40,
   "metadata": {},
   "outputs": [
    {
     "data": {
      "text/html": [
       "<div>\n",
       "<style scoped>\n",
       "    .dataframe tbody tr th:only-of-type {\n",
       "        vertical-align: middle;\n",
       "    }\n",
       "\n",
       "    .dataframe tbody tr th {\n",
       "        vertical-align: top;\n",
       "    }\n",
       "\n",
       "    .dataframe thead th {\n",
       "        text-align: right;\n",
       "    }\n",
       "</style>\n",
       "<table border=\"1\" class=\"dataframe\">\n",
       "  <thead>\n",
       "    <tr style=\"text-align: right;\">\n",
       "      <th></th>\n",
       "      <th>request_method</th>\n",
       "      <th>user_id</th>\n",
       "      <th>cohort_id</th>\n",
       "      <th>ip</th>\n",
       "      <th>network</th>\n",
       "      <th>host</th>\n",
       "      <th>city</th>\n",
       "      <th>country</th>\n",
       "    </tr>\n",
       "    <tr>\n",
       "      <th>ds</th>\n",
       "      <th></th>\n",
       "      <th></th>\n",
       "      <th></th>\n",
       "      <th></th>\n",
       "      <th></th>\n",
       "      <th></th>\n",
       "      <th></th>\n",
       "      <th></th>\n",
       "    </tr>\n",
       "  </thead>\n",
       "  <tbody>\n",
       "    <tr>\n",
       "      <th>2020-07-13 00:00:19</th>\n",
       "      <td>appendix</td>\n",
       "      <td>633</td>\n",
       "      <td>57</td>\n",
       "      <td>24.26.242.224</td>\n",
       "      <td>2426</td>\n",
       "      <td>242224</td>\n",
       "      <td>San Antonio</td>\n",
       "      <td>United States</td>\n",
       "    </tr>\n",
       "    <tr>\n",
       "      <th>2020-07-13 00:00:23</th>\n",
       "      <td>appendix/professional-development/linkedin-tips</td>\n",
       "      <td>633</td>\n",
       "      <td>57</td>\n",
       "      <td>24.26.242.224</td>\n",
       "      <td>2426</td>\n",
       "      <td>242224</td>\n",
       "      <td>San Antonio</td>\n",
       "      <td>United States</td>\n",
       "    </tr>\n",
       "    <tr>\n",
       "      <th>2020-07-13 00:04:59</th>\n",
       "      <td>appendix/professional-development/cover-letter</td>\n",
       "      <td>614</td>\n",
       "      <td>56</td>\n",
       "      <td>174.67.1.123</td>\n",
       "      <td>17467</td>\n",
       "      <td>1123</td>\n",
       "      <td>Oklahoma City</td>\n",
       "      <td>United States</td>\n",
       "    </tr>\n",
       "    <tr>\n",
       "      <th>2020-07-13 00:05:49</th>\n",
       "      <td>spring/fundamentals/security/authentication</td>\n",
       "      <td>606</td>\n",
       "      <td>56</td>\n",
       "      <td>76.187.7.114</td>\n",
       "      <td>76187</td>\n",
       "      <td>7114</td>\n",
       "      <td>Garland</td>\n",
       "      <td>United States</td>\n",
       "    </tr>\n",
       "    <tr>\n",
       "      <th>2020-07-13 00:52:09</th>\n",
       "      <td>javascript-i/arrays</td>\n",
       "      <td>672</td>\n",
       "      <td>58</td>\n",
       "      <td>67.11.50.23</td>\n",
       "      <td>6711</td>\n",
       "      <td>5023</td>\n",
       "      <td>Boerne</td>\n",
       "      <td>United States</td>\n",
       "    </tr>\n",
       "  </tbody>\n",
       "</table>\n",
       "</div>"
      ],
      "text/plain": [
       "                                                      request_method  user_id  \\\n",
       "ds                                                                              \n",
       "2020-07-13 00:00:19                                         appendix      633   \n",
       "2020-07-13 00:00:23  appendix/professional-development/linkedin-tips      633   \n",
       "2020-07-13 00:04:59   appendix/professional-development/cover-letter      614   \n",
       "2020-07-13 00:05:49      spring/fundamentals/security/authentication      606   \n",
       "2020-07-13 00:52:09                              javascript-i/arrays      672   \n",
       "\n",
       "                    cohort_id             ip network    host           city  \\\n",
       "ds                                                                            \n",
       "2020-07-13 00:00:19        57  24.26.242.224    2426  242224    San Antonio   \n",
       "2020-07-13 00:00:23        57  24.26.242.224    2426  242224    San Antonio   \n",
       "2020-07-13 00:04:59        56   174.67.1.123   17467    1123  Oklahoma City   \n",
       "2020-07-13 00:05:49        56   76.187.7.114   76187    7114        Garland   \n",
       "2020-07-13 00:52:09        58    67.11.50.23    6711    5023         Boerne   \n",
       "\n",
       "                           country  \n",
       "ds                                  \n",
       "2020-07-13 00:00:19  United States  \n",
       "2020-07-13 00:00:23  United States  \n",
       "2020-07-13 00:04:59  United States  \n",
       "2020-07-13 00:05:49  United States  \n",
       "2020-07-13 00:52:09  United States  "
      ]
     },
     "execution_count": 40,
     "metadata": {},
     "output_type": "execute_result"
    }
   ],
   "source": [
    "darden_df.head()"
   ]
  },
  {
   "cell_type": "markdown",
   "metadata": {},
   "source": [
    "**Look for Suspicious IPs in the City and Country NaNs**\n",
    "\n",
    "It's possible that the city for some IP addresses was unable to be acquired because of suspicious reasons. \n",
    "\n",
    "There are hits from Germany, U.S. Virgin Islands, and Mexico.\n",
    "\n",
    "Let's investigate.\n",
    "\n",
    "Reference: https://ipremoval.sms.symantec.com/ipr/lookup\n",
    "\n",
    "I tested the reference with my own IP address for a quick check of it's validity, and it came back with \"no bad reputation\" for my IP address."
   ]
  },
  {
   "cell_type": "code",
   "execution_count": 41,
   "metadata": {},
   "outputs": [
    {
     "data": {
      "text/plain": [
       "Germany                81\n",
       "U.S. Virgin Islands     4\n",
       "Mexico                  2\n",
       "Name: country, dtype: int64"
      ]
     },
     "execution_count": 41,
     "metadata": {},
     "output_type": "execute_result"
    }
   ],
   "source": [
    "darden_df[darden_df.country != 'United States'].country.value_counts()"
   ]
  },
  {
   "cell_type": "code",
   "execution_count": 42,
   "metadata": {},
   "outputs": [
    {
     "data": {
      "text/plain": [
       "79.220.63.16      62\n",
       "87.158.135.133    19\n",
       "Name: ip, dtype: int64"
      ]
     },
     "execution_count": 42,
     "metadata": {},
     "output_type": "execute_result"
    }
   ],
   "source": [
    "darden_df[darden_df.country == 'Germany'].ip.value_counts()"
   ]
  },
  {
   "cell_type": "markdown",
   "metadata": {},
   "source": [
    "> The IP Address 79.220.63.16 was found to have a negative reputation. Reasons for this assessment include:\n",
    "> * The host has been observed sending spam in a format that is similar to snow shoe spamming techniques.\n",
    "> * The host is unauthorized to send email directly to email servers.\n",
    "\n",
    "> The IP Address 87.158.135.133 was found to have a negative reputation. Reasons for this assessment include:\n",
    "> * The host has been observed sending spam in a format that is similar to snow shoe spamming techniques.\n",
    "> * The host is unauthorized to send email directly to email servers."
   ]
  },
  {
   "cell_type": "markdown",
   "metadata": {},
   "source": [
    "**Create bad IPs dataframe**"
   ]
  },
  {
   "cell_type": "code",
   "execution_count": 43,
   "metadata": {},
   "outputs": [
    {
     "data": {
      "text/html": [
       "<div>\n",
       "<style scoped>\n",
       "    .dataframe tbody tr th:only-of-type {\n",
       "        vertical-align: middle;\n",
       "    }\n",
       "\n",
       "    .dataframe tbody tr th {\n",
       "        vertical-align: top;\n",
       "    }\n",
       "\n",
       "    .dataframe thead th {\n",
       "        text-align: right;\n",
       "    }\n",
       "</style>\n",
       "<table border=\"1\" class=\"dataframe\">\n",
       "  <thead>\n",
       "    <tr style=\"text-align: right;\">\n",
       "      <th></th>\n",
       "      <th>request_method</th>\n",
       "      <th>user_id</th>\n",
       "      <th>cohort_id</th>\n",
       "      <th>ip</th>\n",
       "      <th>network</th>\n",
       "      <th>host</th>\n",
       "      <th>city</th>\n",
       "      <th>country</th>\n",
       "    </tr>\n",
       "    <tr>\n",
       "      <th>ds</th>\n",
       "      <th></th>\n",
       "      <th></th>\n",
       "      <th></th>\n",
       "      <th></th>\n",
       "      <th></th>\n",
       "      <th></th>\n",
       "      <th></th>\n",
       "      <th></th>\n",
       "    </tr>\n",
       "  </thead>\n",
       "  <tbody>\n",
       "    <tr>\n",
       "      <th>2020-10-05 09:02:56</th>\n",
       "      <td>javascript-ii</td>\n",
       "      <td>12</td>\n",
       "      <td>22</td>\n",
       "      <td>79.220.63.16</td>\n",
       "      <td>79220</td>\n",
       "      <td>6316</td>\n",
       "      <td>Munich</td>\n",
       "      <td>Germany</td>\n",
       "    </tr>\n",
       "    <tr>\n",
       "      <th>2020-10-05 09:03:04</th>\n",
       "      <td>javascript-i</td>\n",
       "      <td>12</td>\n",
       "      <td>22</td>\n",
       "      <td>79.220.63.16</td>\n",
       "      <td>79220</td>\n",
       "      <td>6316</td>\n",
       "      <td>Munich</td>\n",
       "      <td>Germany</td>\n",
       "    </tr>\n",
       "    <tr>\n",
       "      <th>2020-10-05 09:03:08</th>\n",
       "      <td>javascript-i/introduction</td>\n",
       "      <td>12</td>\n",
       "      <td>22</td>\n",
       "      <td>79.220.63.16</td>\n",
       "      <td>79220</td>\n",
       "      <td>6316</td>\n",
       "      <td>Munich</td>\n",
       "      <td>Germany</td>\n",
       "    </tr>\n",
       "    <tr>\n",
       "      <th>2020-10-05 09:03:12</th>\n",
       "      <td>javascript-i/introduction/primitive-types</td>\n",
       "      <td>12</td>\n",
       "      <td>22</td>\n",
       "      <td>79.220.63.16</td>\n",
       "      <td>79220</td>\n",
       "      <td>6316</td>\n",
       "      <td>Munich</td>\n",
       "      <td>Germany</td>\n",
       "    </tr>\n",
       "    <tr>\n",
       "      <th>2020-10-05 09:03:16</th>\n",
       "      <td>javascript-i/introduction/operators</td>\n",
       "      <td>12</td>\n",
       "      <td>22</td>\n",
       "      <td>79.220.63.16</td>\n",
       "      <td>79220</td>\n",
       "      <td>6316</td>\n",
       "      <td>Munich</td>\n",
       "      <td>Germany</td>\n",
       "    </tr>\n",
       "    <tr>\n",
       "      <th>...</th>\n",
       "      <td>...</td>\n",
       "      <td>...</td>\n",
       "      <td>...</td>\n",
       "      <td>...</td>\n",
       "      <td>...</td>\n",
       "      <td>...</td>\n",
       "      <td>...</td>\n",
       "      <td>...</td>\n",
       "    </tr>\n",
       "    <tr>\n",
       "      <th>2020-10-05 09:08:16</th>\n",
       "      <td>java-ii/file-io</td>\n",
       "      <td>12</td>\n",
       "      <td>22</td>\n",
       "      <td>79.220.63.16</td>\n",
       "      <td>79220</td>\n",
       "      <td>6316</td>\n",
       "      <td>Munich</td>\n",
       "      <td>Germany</td>\n",
       "    </tr>\n",
       "    <tr>\n",
       "      <th>2020-10-05 09:08:19</th>\n",
       "      <td>java-ii/dependency-management</td>\n",
       "      <td>12</td>\n",
       "      <td>22</td>\n",
       "      <td>79.220.63.16</td>\n",
       "      <td>79220</td>\n",
       "      <td>6316</td>\n",
       "      <td>Munich</td>\n",
       "      <td>Germany</td>\n",
       "    </tr>\n",
       "    <tr>\n",
       "      <th>2020-10-05 09:08:24</th>\n",
       "      <td>java-ii/junit-tdd</td>\n",
       "      <td>12</td>\n",
       "      <td>22</td>\n",
       "      <td>79.220.63.16</td>\n",
       "      <td>79220</td>\n",
       "      <td>6316</td>\n",
       "      <td>Munich</td>\n",
       "      <td>Germany</td>\n",
       "    </tr>\n",
       "    <tr>\n",
       "      <th>2020-10-05 09:08:28</th>\n",
       "      <td>search/search_index.json</td>\n",
       "      <td>12</td>\n",
       "      <td>22</td>\n",
       "      <td>79.220.63.16</td>\n",
       "      <td>79220</td>\n",
       "      <td>6316</td>\n",
       "      <td>Munich</td>\n",
       "      <td>Germany</td>\n",
       "    </tr>\n",
       "    <tr>\n",
       "      <th>2020-10-05 09:10:04</th>\n",
       "      <td>java-i/control-statements-and-loops</td>\n",
       "      <td>12</td>\n",
       "      <td>22</td>\n",
       "      <td>79.220.63.16</td>\n",
       "      <td>79220</td>\n",
       "      <td>6316</td>\n",
       "      <td>Munich</td>\n",
       "      <td>Germany</td>\n",
       "    </tr>\n",
       "  </tbody>\n",
       "</table>\n",
       "<p>62 rows × 8 columns</p>\n",
       "</div>"
      ],
      "text/plain": [
       "                                                request_method  user_id  \\\n",
       "ds                                                                        \n",
       "2020-10-05 09:02:56                              javascript-ii       12   \n",
       "2020-10-05 09:03:04                               javascript-i       12   \n",
       "2020-10-05 09:03:08                  javascript-i/introduction       12   \n",
       "2020-10-05 09:03:12  javascript-i/introduction/primitive-types       12   \n",
       "2020-10-05 09:03:16        javascript-i/introduction/operators       12   \n",
       "...                                                        ...      ...   \n",
       "2020-10-05 09:08:16                            java-ii/file-io       12   \n",
       "2020-10-05 09:08:19              java-ii/dependency-management       12   \n",
       "2020-10-05 09:08:24                          java-ii/junit-tdd       12   \n",
       "2020-10-05 09:08:28                   search/search_index.json       12   \n",
       "2020-10-05 09:10:04        java-i/control-statements-and-loops       12   \n",
       "\n",
       "                    cohort_id            ip network  host    city  country  \n",
       "ds                                                                          \n",
       "2020-10-05 09:02:56        22  79.220.63.16   79220  6316  Munich  Germany  \n",
       "2020-10-05 09:03:04        22  79.220.63.16   79220  6316  Munich  Germany  \n",
       "2020-10-05 09:03:08        22  79.220.63.16   79220  6316  Munich  Germany  \n",
       "2020-10-05 09:03:12        22  79.220.63.16   79220  6316  Munich  Germany  \n",
       "2020-10-05 09:03:16        22  79.220.63.16   79220  6316  Munich  Germany  \n",
       "...                       ...           ...     ...   ...     ...      ...  \n",
       "2020-10-05 09:08:16        22  79.220.63.16   79220  6316  Munich  Germany  \n",
       "2020-10-05 09:08:19        22  79.220.63.16   79220  6316  Munich  Germany  \n",
       "2020-10-05 09:08:24        22  79.220.63.16   79220  6316  Munich  Germany  \n",
       "2020-10-05 09:08:28        22  79.220.63.16   79220  6316  Munich  Germany  \n",
       "2020-10-05 09:10:04        22  79.220.63.16   79220  6316  Munich  Germany  \n",
       "\n",
       "[62 rows x 8 columns]"
      ]
     },
     "execution_count": 43,
     "metadata": {},
     "output_type": "execute_result"
    }
   ],
   "source": [
    "#add these to bad ips df\n",
    "bad_ips = darden_df[(darden_df.ip == '79.220.63.16') | \n",
    "                    (darden_df.ip == '79.220.63.16')]\n",
    "bad_ips"
   ]
  },
  {
   "cell_type": "code",
   "execution_count": 44,
   "metadata": {},
   "outputs": [
    {
     "data": {
      "text/plain": [
       "request_method      0\n",
       "user_id             0\n",
       "cohort_id           0\n",
       "ip                  0\n",
       "network             0\n",
       "host                0\n",
       "city              185\n",
       "country             0\n",
       "dtype: int64"
      ]
     },
     "execution_count": 44,
     "metadata": {},
     "output_type": "execute_result"
    }
   ],
   "source": [
    "darden_df.isna().sum()"
   ]
  },
  {
   "cell_type": "code",
   "execution_count": 45,
   "metadata": {},
   "outputs": [
    {
     "data": {
      "text/html": [
       "<div>\n",
       "<style scoped>\n",
       "    .dataframe tbody tr th:only-of-type {\n",
       "        vertical-align: middle;\n",
       "    }\n",
       "\n",
       "    .dataframe tbody tr th {\n",
       "        vertical-align: top;\n",
       "    }\n",
       "\n",
       "    .dataframe thead th {\n",
       "        text-align: right;\n",
       "    }\n",
       "</style>\n",
       "<table border=\"1\" class=\"dataframe\">\n",
       "  <thead>\n",
       "    <tr style=\"text-align: right;\">\n",
       "      <th></th>\n",
       "      <th>request_method</th>\n",
       "      <th>user_id</th>\n",
       "      <th>cohort_id</th>\n",
       "      <th>ip</th>\n",
       "      <th>network</th>\n",
       "      <th>host</th>\n",
       "      <th>city</th>\n",
       "      <th>country</th>\n",
       "    </tr>\n",
       "    <tr>\n",
       "      <th>ds</th>\n",
       "      <th></th>\n",
       "      <th></th>\n",
       "      <th></th>\n",
       "      <th></th>\n",
       "      <th></th>\n",
       "      <th></th>\n",
       "      <th></th>\n",
       "      <th></th>\n",
       "    </tr>\n",
       "  </thead>\n",
       "  <tbody>\n",
       "    <tr>\n",
       "      <th>2020-07-13 10:14:49</th>\n",
       "      <td>spring/fundamentals/views</td>\n",
       "      <td>615</td>\n",
       "      <td>56</td>\n",
       "      <td>107.242.125.32</td>\n",
       "      <td>107242</td>\n",
       "      <td>12532</td>\n",
       "      <td>None</td>\n",
       "      <td>United States</td>\n",
       "    </tr>\n",
       "    <tr>\n",
       "      <th>2020-07-13 11:19:32</th>\n",
       "      <td>html-css/elements</td>\n",
       "      <td>615</td>\n",
       "      <td>56</td>\n",
       "      <td>107.242.125.32</td>\n",
       "      <td>107242</td>\n",
       "      <td>12532</td>\n",
       "      <td>None</td>\n",
       "      <td>United States</td>\n",
       "    </tr>\n",
       "    <tr>\n",
       "      <th>2020-07-13 11:19:46</th>\n",
       "      <td>html-css/forms</td>\n",
       "      <td>615</td>\n",
       "      <td>56</td>\n",
       "      <td>107.242.125.32</td>\n",
       "      <td>107242</td>\n",
       "      <td>12532</td>\n",
       "      <td>None</td>\n",
       "      <td>United States</td>\n",
       "    </tr>\n",
       "    <tr>\n",
       "      <th>2020-07-13 11:20:03</th>\n",
       "      <td>html-css/css-i</td>\n",
       "      <td>615</td>\n",
       "      <td>56</td>\n",
       "      <td>107.242.125.32</td>\n",
       "      <td>107242</td>\n",
       "      <td>12532</td>\n",
       "      <td>None</td>\n",
       "      <td>United States</td>\n",
       "    </tr>\n",
       "    <tr>\n",
       "      <th>2020-07-13 11:20:04</th>\n",
       "      <td>html-css/css-i/introduction</td>\n",
       "      <td>615</td>\n",
       "      <td>56</td>\n",
       "      <td>107.242.125.32</td>\n",
       "      <td>107242</td>\n",
       "      <td>12532</td>\n",
       "      <td>None</td>\n",
       "      <td>United States</td>\n",
       "    </tr>\n",
       "    <tr>\n",
       "      <th>...</th>\n",
       "      <td>...</td>\n",
       "      <td>...</td>\n",
       "      <td>...</td>\n",
       "      <td>...</td>\n",
       "      <td>...</td>\n",
       "      <td>...</td>\n",
       "      <td>...</td>\n",
       "      <td>...</td>\n",
       "    </tr>\n",
       "    <tr>\n",
       "      <th>2020-11-02 13:33:07</th>\n",
       "      <td>jquery</td>\n",
       "      <td>769</td>\n",
       "      <td>62</td>\n",
       "      <td>98.39.66.72</td>\n",
       "      <td>9839</td>\n",
       "      <td>6672</td>\n",
       "      <td>None</td>\n",
       "      <td>United States</td>\n",
       "    </tr>\n",
       "    <tr>\n",
       "      <th>2020-11-02 13:33:12</th>\n",
       "      <td>javascript-i</td>\n",
       "      <td>769</td>\n",
       "      <td>62</td>\n",
       "      <td>98.39.66.72</td>\n",
       "      <td>9839</td>\n",
       "      <td>6672</td>\n",
       "      <td>None</td>\n",
       "      <td>United States</td>\n",
       "    </tr>\n",
       "    <tr>\n",
       "      <th>2020-11-02 13:33:16</th>\n",
       "      <td>javascript-i/bom-and-dom</td>\n",
       "      <td>769</td>\n",
       "      <td>62</td>\n",
       "      <td>98.39.66.72</td>\n",
       "      <td>9839</td>\n",
       "      <td>6672</td>\n",
       "      <td>None</td>\n",
       "      <td>United States</td>\n",
       "    </tr>\n",
       "    <tr>\n",
       "      <th>2020-11-02 13:33:21</th>\n",
       "      <td>javascript-i/bom-and-dom/bom</td>\n",
       "      <td>769</td>\n",
       "      <td>62</td>\n",
       "      <td>98.39.66.72</td>\n",
       "      <td>9839</td>\n",
       "      <td>6672</td>\n",
       "      <td>None</td>\n",
       "      <td>United States</td>\n",
       "    </tr>\n",
       "    <tr>\n",
       "      <th>2020-11-02 13:33:58</th>\n",
       "      <td>examples/javascript/defuse-the-bom.html</td>\n",
       "      <td>769</td>\n",
       "      <td>62</td>\n",
       "      <td>98.39.66.72</td>\n",
       "      <td>9839</td>\n",
       "      <td>6672</td>\n",
       "      <td>None</td>\n",
       "      <td>United States</td>\n",
       "    </tr>\n",
       "  </tbody>\n",
       "</table>\n",
       "<p>185 rows × 8 columns</p>\n",
       "</div>"
      ],
      "text/plain": [
       "                                              request_method  user_id  \\\n",
       "ds                                                                      \n",
       "2020-07-13 10:14:49                spring/fundamentals/views      615   \n",
       "2020-07-13 11:19:32                        html-css/elements      615   \n",
       "2020-07-13 11:19:46                           html-css/forms      615   \n",
       "2020-07-13 11:20:03                           html-css/css-i      615   \n",
       "2020-07-13 11:20:04              html-css/css-i/introduction      615   \n",
       "...                                                      ...      ...   \n",
       "2020-11-02 13:33:07                                   jquery      769   \n",
       "2020-11-02 13:33:12                             javascript-i      769   \n",
       "2020-11-02 13:33:16                 javascript-i/bom-and-dom      769   \n",
       "2020-11-02 13:33:21             javascript-i/bom-and-dom/bom      769   \n",
       "2020-11-02 13:33:58  examples/javascript/defuse-the-bom.html      769   \n",
       "\n",
       "                    cohort_id              ip network   host  city  \\\n",
       "ds                                                                   \n",
       "2020-07-13 10:14:49        56  107.242.125.32  107242  12532  None   \n",
       "2020-07-13 11:19:32        56  107.242.125.32  107242  12532  None   \n",
       "2020-07-13 11:19:46        56  107.242.125.32  107242  12532  None   \n",
       "2020-07-13 11:20:03        56  107.242.125.32  107242  12532  None   \n",
       "2020-07-13 11:20:04        56  107.242.125.32  107242  12532  None   \n",
       "...                       ...             ...     ...    ...   ...   \n",
       "2020-11-02 13:33:07        62     98.39.66.72    9839   6672  None   \n",
       "2020-11-02 13:33:12        62     98.39.66.72    9839   6672  None   \n",
       "2020-11-02 13:33:16        62     98.39.66.72    9839   6672  None   \n",
       "2020-11-02 13:33:21        62     98.39.66.72    9839   6672  None   \n",
       "2020-11-02 13:33:58        62     98.39.66.72    9839   6672  None   \n",
       "\n",
       "                           country  \n",
       "ds                                  \n",
       "2020-07-13 10:14:49  United States  \n",
       "2020-07-13 11:19:32  United States  \n",
       "2020-07-13 11:19:46  United States  \n",
       "2020-07-13 11:20:03  United States  \n",
       "2020-07-13 11:20:04  United States  \n",
       "...                            ...  \n",
       "2020-11-02 13:33:07  United States  \n",
       "2020-11-02 13:33:12  United States  \n",
       "2020-11-02 13:33:16  United States  \n",
       "2020-11-02 13:33:21  United States  \n",
       "2020-11-02 13:33:58  United States  \n",
       "\n",
       "[185 rows x 8 columns]"
      ]
     },
     "execution_count": 45,
     "metadata": {},
     "output_type": "execute_result"
    }
   ],
   "source": [
    "darden_df[darden_df.city.isna()]"
   ]
  },
  {
   "cell_type": "markdown",
   "metadata": {},
   "source": [
    "**Takeaways:** Using https://ipremoval.sms.symantec.com/ipr/lookup, I searched for ```107.242.125.32``` and it returned:\n",
    "\n",
    ">The IP Address 107.242.125.32 was found to have a negative reputation. Reasons for this assessment include:\n",
    ">* The host has been observed sending spam in a format that is similar to snow shoe spamming techniques.\n",
    ">* The host is unauthorized to send email directly to email servers.\n",
    "\n",
    "I ran IP address ```98.39.66.72``` as well, but it did not have any bad reputation.\n",
    "\n",
    "Regardless, I see that both of those IP addresses seem to hit each page quickly, in succession.\n",
    "\n",
    "**I can conclude that these two IP addresses are scrapper bots.**"
   ]
  },
  {
   "cell_type": "markdown",
   "metadata": {},
   "source": [
    "The scrapper bots seem to maybe be scrapping the Web Dev curriculum more than the Data Science curriculum, so I'm going to run a hypothesis test to test that. However, first I need to prepare the data for the test."
   ]
  },
  {
   "cell_type": "code",
   "execution_count": 46,
   "metadata": {
    "scrolled": false
   },
   "outputs": [
    {
     "data": {
      "text/plain": [
       "107.242.125.32     26\n",
       "98.39.66.72        22\n",
       "107.77.201.165     21\n",
       "174.128.181.39     19\n",
       "170.130.2.251      16\n",
       "31.13.189.90        9\n",
       "107.152.98.82       8\n",
       "174.246.201.223     8\n",
       "12.31.71.58         7\n",
       "107.242.125.50      7\n",
       "107.242.125.38      5\n",
       "208.30.107.160      4\n",
       "206.214.78.211      4\n",
       "174.246.196.212     4\n",
       "174.255.132.117     4\n",
       "107.158.15.51       3\n",
       "3.209.254.178       3\n",
       "176.113.73.30       3\n",
       "72.173.98.235       2\n",
       "107.242.125.63      2\n",
       "206.214.78.35       2\n",
       "107.158.15.59       1\n",
       "174.128.180.196     1\n",
       "107.77.201.226      1\n",
       "107.77.201.138      1\n",
       "174.244.67.71       1\n",
       "107.242.125.44      1\n",
       "Name: ip, dtype: int64"
      ]
     },
     "execution_count": 46,
     "metadata": {},
     "output_type": "execute_result"
    }
   ],
   "source": [
    "darden_df[darden_df.city.isna()].ip.value_counts()"
   ]
  },
  {
   "cell_type": "markdown",
   "metadata": {},
   "source": [
    "I've also found that ```107.77.201.165```, ```174.128.181.39```, ```170.130.2.251```, ```174.246.201.223```,  have bad reputations according to the search as well.\n",
    "\n",
    "I wonder if 107 at the beginning of an IP address means something important.\n",
    "\n",
    "For ```170.130.2.251```, ```31.13.189.90```, ```107.152.98.82``` the search results included another reason for the bad reputation - snow shoe spamming.\n",
    "\n",
    "Turn out that ```12.31.71.58 ```, ```206.214.78.35``` and ```3.209.254.178 ``` are not even valid IPv4 addresses.\n",
    "\n",
    "Now that's enough manual lookup. Time to move on. I'll just store my proven suspicious IPs in a new dataframe named ```bad_ips```."
   ]
  },
  {
   "cell_type": "markdown",
   "metadata": {},
   "source": [
    "**Add to bad IPs dataframe**"
   ]
  },
  {
   "cell_type": "code",
   "execution_count": 47,
   "metadata": {},
   "outputs": [
    {
     "data": {
      "text/html": [
       "<div>\n",
       "<style scoped>\n",
       "    .dataframe tbody tr th:only-of-type {\n",
       "        vertical-align: middle;\n",
       "    }\n",
       "\n",
       "    .dataframe tbody tr th {\n",
       "        vertical-align: top;\n",
       "    }\n",
       "\n",
       "    .dataframe thead th {\n",
       "        text-align: right;\n",
       "    }\n",
       "</style>\n",
       "<table border=\"1\" class=\"dataframe\">\n",
       "  <thead>\n",
       "    <tr style=\"text-align: right;\">\n",
       "      <th></th>\n",
       "      <th>request_method</th>\n",
       "      <th>user_id</th>\n",
       "      <th>cohort_id</th>\n",
       "      <th>ip</th>\n",
       "      <th>network</th>\n",
       "      <th>host</th>\n",
       "      <th>city</th>\n",
       "      <th>country</th>\n",
       "    </tr>\n",
       "  </thead>\n",
       "  <tbody>\n",
       "  </tbody>\n",
       "</table>\n",
       "</div>"
      ],
      "text/plain": [
       "Empty DataFrame\n",
       "Columns: [request_method, user_id, cohort_id, ip, network, host, city, country]\n",
       "Index: []"
      ]
     },
     "execution_count": 47,
     "metadata": {},
     "output_type": "execute_result"
    }
   ],
   "source": [
    "test_df = bad_ips\n",
    "bad_ips_append = darden_df[(darden_df.ip == '107.77.201.165') | \n",
    "                    (darden_df.ip == '174.128.181.39') | \n",
    "                    (darden_df.ip == '170.130.2.251') | \n",
    "                    (darden_df.ip == '174.246.201.223') | \n",
    "                    (darden_df.ip == '170.130.2.251') | \n",
    "                    (darden_df.ip == '31.13.189.90') | \n",
    "                    (darden_df.ip == '107.152.98.82')]\n",
    "result = pd.merge(test_df, bad_ips_append, how='inner')\n",
    "result"
   ]
  },
  {
   "cell_type": "markdown",
   "metadata": {},
   "source": [
    "**Prepare data for hypothesis test**"
   ]
  },
  {
   "cell_type": "code",
   "execution_count": null,
   "metadata": {},
   "outputs": [],
   "source": []
  },
  {
   "cell_type": "code",
   "execution_count": null,
   "metadata": {},
   "outputs": [],
   "source": []
  },
  {
   "cell_type": "code",
   "execution_count": null,
   "metadata": {},
   "outputs": [],
   "source": []
  },
  {
   "cell_type": "code",
   "execution_count": null,
   "metadata": {},
   "outputs": [],
   "source": []
  },
  {
   "cell_type": "markdown",
   "metadata": {},
   "source": [
    "### Hypothesis 1:\n",
    "    \n",
    ">**note to self:**\n",
    ">compare darden and whatever cohort of web dev overlaps with us (resample for web dev, and use ryan's string contains code for both to seperate them out)\n",
    ">\n",
    ">make a hypothesis about their locations, perhaps, maybe about which one is more likely to have suspicious locations and go into reasons why behind that"
   ]
  },
  {
   "cell_type": "markdown",
   "metadata": {},
   "source": [
    "### Explore request_methods"
   ]
  },
  {
   "cell_type": "markdown",
   "metadata": {},
   "source": [
    "**Plot distributions of request_methods by user**"
   ]
  },
  {
   "cell_type": "code",
   "execution_count": 48,
   "metadata": {},
   "outputs": [
    {
     "data": {
      "text/plain": [
       "<pandas.core.groupby.generic.DataFrameGroupBy object at 0x13957e730>"
      ]
     },
     "execution_count": 48,
     "metadata": {},
     "output_type": "execute_result"
    }
   ],
   "source": [
    "darden_df.groupby('request_method')"
   ]
  },
  {
   "cell_type": "code",
   "execution_count": 49,
   "metadata": {},
   "outputs": [
    {
     "data": {
      "text/html": [
       "<div>\n",
       "<style scoped>\n",
       "    .dataframe tbody tr th:only-of-type {\n",
       "        vertical-align: middle;\n",
       "    }\n",
       "\n",
       "    .dataframe tbody tr th {\n",
       "        vertical-align: top;\n",
       "    }\n",
       "\n",
       "    .dataframe thead th {\n",
       "        text-align: right;\n",
       "    }\n",
       "</style>\n",
       "<table border=\"1\" class=\"dataframe\">\n",
       "  <thead>\n",
       "    <tr style=\"text-align: right;\">\n",
       "      <th></th>\n",
       "      <th>request_method</th>\n",
       "      <th>user_id</th>\n",
       "      <th>cohort_id</th>\n",
       "      <th>ip</th>\n",
       "      <th>network</th>\n",
       "      <th>host</th>\n",
       "      <th>city</th>\n",
       "      <th>country</th>\n",
       "    </tr>\n",
       "    <tr>\n",
       "      <th>ds</th>\n",
       "      <th></th>\n",
       "      <th></th>\n",
       "      <th></th>\n",
       "      <th></th>\n",
       "      <th></th>\n",
       "      <th></th>\n",
       "      <th></th>\n",
       "      <th></th>\n",
       "    </tr>\n",
       "  </thead>\n",
       "  <tbody>\n",
       "  </tbody>\n",
       "</table>\n",
       "</div>"
      ],
      "text/plain": [
       "Empty DataFrame\n",
       "Columns: [request_method, user_id, cohort_id, ip, network, host, city, country]\n",
       "Index: []"
      ]
     },
     "execution_count": 49,
     "metadata": {},
     "output_type": "execute_result"
    }
   ],
   "source": [
    "darden_df.groupby(['request_method']).filter(lambda x : len(x)>7100)"
   ]
  },
  {
   "cell_type": "markdown",
   "metadata": {},
   "source": []
  },
  {
   "cell_type": "code",
   "execution_count": null,
   "metadata": {},
   "outputs": [],
   "source": []
  },
  {
   "cell_type": "code",
   "execution_count": null,
   "metadata": {},
   "outputs": [],
   "source": []
  },
  {
   "cell_type": "markdown",
   "metadata": {},
   "source": [
    "## For fun... where am I?"
   ]
  },
  {
   "cell_type": "code",
   "execution_count": 50,
   "metadata": {},
   "outputs": [
    {
     "data": {
      "text/html": [
       "<div>\n",
       "<style scoped>\n",
       "    .dataframe tbody tr th:only-of-type {\n",
       "        vertical-align: middle;\n",
       "    }\n",
       "\n",
       "    .dataframe tbody tr th {\n",
       "        vertical-align: top;\n",
       "    }\n",
       "\n",
       "    .dataframe thead th {\n",
       "        text-align: right;\n",
       "    }\n",
       "</style>\n",
       "<table border=\"1\" class=\"dataframe\">\n",
       "  <thead>\n",
       "    <tr style=\"text-align: right;\">\n",
       "      <th></th>\n",
       "      <th>request_method</th>\n",
       "      <th>user_id</th>\n",
       "      <th>cohort_id</th>\n",
       "      <th>ip</th>\n",
       "      <th>network</th>\n",
       "      <th>host</th>\n",
       "    </tr>\n",
       "    <tr>\n",
       "      <th>ds</th>\n",
       "      <th></th>\n",
       "      <th></th>\n",
       "      <th></th>\n",
       "      <th></th>\n",
       "      <th></th>\n",
       "      <th></th>\n",
       "    </tr>\n",
       "  </thead>\n",
       "  <tbody>\n",
       "    <tr>\n",
       "      <th>2020-07-14 16:08:28</th>\n",
       "      <td>1-fundamentals/1.3-pipeline-demo</td>\n",
       "      <td>687</td>\n",
       "      <td>59</td>\n",
       "      <td>99.132.128.255</td>\n",
       "      <td>99132</td>\n",
       "      <td>128255</td>\n",
       "    </tr>\n",
       "    <tr>\n",
       "      <th>2020-07-14 16:09:31</th>\n",
       "      <td>1-fundamentals/1.1-intro-to-data-science</td>\n",
       "      <td>687</td>\n",
       "      <td>59</td>\n",
       "      <td>99.132.128.255</td>\n",
       "      <td>99132</td>\n",
       "      <td>128255</td>\n",
       "    </tr>\n",
       "    <tr>\n",
       "      <th>2020-07-14 16:09:32</th>\n",
       "      <td>1-fundamentals/modern-data-scientist.jpg</td>\n",
       "      <td>687</td>\n",
       "      <td>59</td>\n",
       "      <td>99.132.128.255</td>\n",
       "      <td>99132</td>\n",
       "      <td>128255</td>\n",
       "    </tr>\n",
       "    <tr>\n",
       "      <th>2020-07-14 16:09:32</th>\n",
       "      <td>1-fundamentals/AI-ML-DL-timeline.jpg</td>\n",
       "      <td>687</td>\n",
       "      <td>59</td>\n",
       "      <td>99.132.128.255</td>\n",
       "      <td>99132</td>\n",
       "      <td>128255</td>\n",
       "    </tr>\n",
       "    <tr>\n",
       "      <th>2020-07-14 16:32:47</th>\n",
       "      <td>1-fundamentals/1.2-data-science-pipeline</td>\n",
       "      <td>687</td>\n",
       "      <td>59</td>\n",
       "      <td>99.132.128.255</td>\n",
       "      <td>99132</td>\n",
       "      <td>128255</td>\n",
       "    </tr>\n",
       "    <tr>\n",
       "      <th>...</th>\n",
       "      <td>...</td>\n",
       "      <td>...</td>\n",
       "      <td>...</td>\n",
       "      <td>...</td>\n",
       "      <td>...</td>\n",
       "      <td>...</td>\n",
       "    </tr>\n",
       "    <tr>\n",
       "      <th>2020-10-31 16:45:54</th>\n",
       "      <td>timeseries/modeling-lesson1</td>\n",
       "      <td>780</td>\n",
       "      <td>59</td>\n",
       "      <td>99.132.128.255</td>\n",
       "      <td>99132</td>\n",
       "      <td>128255</td>\n",
       "    </tr>\n",
       "    <tr>\n",
       "      <th>2020-11-02 09:21:45</th>\n",
       "      <td>anomaly-detection/overview</td>\n",
       "      <td>780</td>\n",
       "      <td>59</td>\n",
       "      <td>99.132.128.255</td>\n",
       "      <td>99132</td>\n",
       "      <td>128255</td>\n",
       "    </tr>\n",
       "    <tr>\n",
       "      <th>2020-11-02 09:21:45</th>\n",
       "      <td>anomaly-detection/AnomalyDetectionCartoon.jpeg</td>\n",
       "      <td>780</td>\n",
       "      <td>59</td>\n",
       "      <td>99.132.128.255</td>\n",
       "      <td>99132</td>\n",
       "      <td>128255</td>\n",
       "    </tr>\n",
       "    <tr>\n",
       "      <th>2020-11-02 09:21:50</th>\n",
       "      <td>timeseries/modeling-lesson1</td>\n",
       "      <td>780</td>\n",
       "      <td>59</td>\n",
       "      <td>99.132.128.255</td>\n",
       "      <td>99132</td>\n",
       "      <td>128255</td>\n",
       "    </tr>\n",
       "    <tr>\n",
       "      <th>2020-11-02 09:21:51</th>\n",
       "      <td>timeseries/modeling-lesson2</td>\n",
       "      <td>780</td>\n",
       "      <td>59</td>\n",
       "      <td>99.132.128.255</td>\n",
       "      <td>99132</td>\n",
       "      <td>128255</td>\n",
       "    </tr>\n",
       "  </tbody>\n",
       "</table>\n",
       "<p>694 rows × 6 columns</p>\n",
       "</div>"
      ],
      "text/plain": [
       "                                                     request_method  user_id  \\\n",
       "ds                                                                             \n",
       "2020-07-14 16:08:28                1-fundamentals/1.3-pipeline-demo      687   \n",
       "2020-07-14 16:09:31        1-fundamentals/1.1-intro-to-data-science      687   \n",
       "2020-07-14 16:09:32        1-fundamentals/modern-data-scientist.jpg      687   \n",
       "2020-07-14 16:09:32            1-fundamentals/AI-ML-DL-timeline.jpg      687   \n",
       "2020-07-14 16:32:47        1-fundamentals/1.2-data-science-pipeline      687   \n",
       "...                                                             ...      ...   \n",
       "2020-10-31 16:45:54                     timeseries/modeling-lesson1      780   \n",
       "2020-11-02 09:21:45                      anomaly-detection/overview      780   \n",
       "2020-11-02 09:21:45  anomaly-detection/AnomalyDetectionCartoon.jpeg      780   \n",
       "2020-11-02 09:21:50                     timeseries/modeling-lesson1      780   \n",
       "2020-11-02 09:21:51                     timeseries/modeling-lesson2      780   \n",
       "\n",
       "                    cohort_id              ip network    host  \n",
       "ds                                                             \n",
       "2020-07-14 16:08:28        59  99.132.128.255   99132  128255  \n",
       "2020-07-14 16:09:31        59  99.132.128.255   99132  128255  \n",
       "2020-07-14 16:09:32        59  99.132.128.255   99132  128255  \n",
       "2020-07-14 16:09:32        59  99.132.128.255   99132  128255  \n",
       "2020-07-14 16:32:47        59  99.132.128.255   99132  128255  \n",
       "...                       ...             ...     ...     ...  \n",
       "2020-10-31 16:45:54        59  99.132.128.255   99132  128255  \n",
       "2020-11-02 09:21:45        59  99.132.128.255   99132  128255  \n",
       "2020-11-02 09:21:45        59  99.132.128.255   99132  128255  \n",
       "2020-11-02 09:21:50        59  99.132.128.255   99132  128255  \n",
       "2020-11-02 09:21:51        59  99.132.128.255   99132  128255  \n",
       "\n",
       "[694 rows x 6 columns]"
      ]
     },
     "execution_count": 50,
     "metadata": {},
     "output_type": "execute_result"
    }
   ],
   "source": [
    "kwame_df = df[df.ip == '99.132.128.255']\n",
    "kwame_df"
   ]
  },
  {
   "cell_type": "code",
   "execution_count": 79,
   "metadata": {},
   "outputs": [
    {
     "data": {
      "text/plain": [
       "<matplotlib.axes._subplots.AxesSubplot at 0x13c0c7e20>"
      ]
     },
     "execution_count": 79,
     "metadata": {},
     "output_type": "execute_result"
    },
    {
     "data": {
      "image/png": "[encoded data removed]",
      "text/plain": [
       "<Figure size 1008x648 with 1 Axes>"
      ]
     },
     "metadata": {
      "needs_background": "light"
     },
     "output_type": "display_data"
    }
   ],
   "source": [
    "kwame_df.resample('D').count().plot(legend=False)"
   ]
  },
  {
   "cell_type": "code",
   "execution_count": 77,
   "metadata": {},
   "outputs": [
    {
     "data": {
      "text/plain": [
       "<matplotlib.axes._subplots.AxesSubplot at 0x13bdfff10>"
      ]
     },
     "execution_count": 77,
     "metadata": {},
     "output_type": "execute_result"
    },
    {
     "data": {
      "image/png": "[encoded data removed]",
      "text/plain": [
       "<Figure size 1008x648 with 1 Axes>"
      ]
     },
     "metadata": {
      "needs_background": "light"
     },
     "output_type": "display_data"
    }
   ],
   "source": [
    "kwame_df.resample('4D').count().plot(legend=False)"
   ]
  },
  {
   "cell_type": "code",
   "execution_count": 63,
   "metadata": {},
   "outputs": [
    {
     "ename": "AttributeError",
     "evalue": "'DataFrame' object has no attribute 'swarmplot'",
     "output_type": "error",
     "traceback": [
      "\u001b[0;31m---------------------------------------------------------------------------\u001b[0m",
      "\u001b[0;31mAttributeError\u001b[0m                            Traceback (most recent call last)",
      "\u001b[0;32m<ipython-input-63-082dfac2eab1>\u001b[0m in \u001b[0;36m<module>\u001b[0;34m\u001b[0m\n\u001b[0;32m----> 1\u001b[0;31m \u001b[0mkwame_df\u001b[0m\u001b[0;34m.\u001b[0m\u001b[0mdrop\u001b[0m\u001b[0;34m(\u001b[0m\u001b[0mcolumns\u001b[0m\u001b[0;34m=\u001b[0m\u001b[0;34m[\u001b[0m\u001b[0;34m'cohort_id'\u001b[0m\u001b[0;34m,\u001b[0m \u001b[0;34m'ip'\u001b[0m\u001b[0;34m,\u001b[0m \u001b[0;34m'network'\u001b[0m\u001b[0;34m,\u001b[0m \u001b[0;34m'host'\u001b[0m\u001b[0;34m]\u001b[0m\u001b[0;34m)\u001b[0m\u001b[0;34m.\u001b[0m\u001b[0mswarmplot\u001b[0m\u001b[0;34m(\u001b[0m\u001b[0;34m)\u001b[0m\u001b[0;34m\u001b[0m\u001b[0;34m\u001b[0m\u001b[0m\n\u001b[0m",
      "\u001b[0;32m/usr/local/anaconda3/lib/python3.8/site-packages/pandas/core/generic.py\u001b[0m in \u001b[0;36m__getattr__\u001b[0;34m(self, name)\u001b[0m\n\u001b[1;32m   5272\u001b[0m             \u001b[0;32mif\u001b[0m \u001b[0mself\u001b[0m\u001b[0;34m.\u001b[0m\u001b[0m_info_axis\u001b[0m\u001b[0;34m.\u001b[0m\u001b[0m_can_hold_identifiers_and_holds_name\u001b[0m\u001b[0;34m(\u001b[0m\u001b[0mname\u001b[0m\u001b[0;34m)\u001b[0m\u001b[0;34m:\u001b[0m\u001b[0;34m\u001b[0m\u001b[0;34m\u001b[0m\u001b[0m\n\u001b[1;32m   5273\u001b[0m                 \u001b[0;32mreturn\u001b[0m \u001b[0mself\u001b[0m\u001b[0;34m[\u001b[0m\u001b[0mname\u001b[0m\u001b[0;34m]\u001b[0m\u001b[0;34m\u001b[0m\u001b[0;34m\u001b[0m\u001b[0m\n\u001b[0;32m-> 5274\u001b[0;31m             \u001b[0;32mreturn\u001b[0m \u001b[0mobject\u001b[0m\u001b[0;34m.\u001b[0m\u001b[0m__getattribute__\u001b[0m\u001b[0;34m(\u001b[0m\u001b[0mself\u001b[0m\u001b[0;34m,\u001b[0m \u001b[0mname\u001b[0m\u001b[0;34m)\u001b[0m\u001b[0;34m\u001b[0m\u001b[0;34m\u001b[0m\u001b[0m\n\u001b[0m\u001b[1;32m   5275\u001b[0m \u001b[0;34m\u001b[0m\u001b[0m\n\u001b[1;32m   5276\u001b[0m     \u001b[0;32mdef\u001b[0m \u001b[0m__setattr__\u001b[0m\u001b[0;34m(\u001b[0m\u001b[0mself\u001b[0m\u001b[0;34m,\u001b[0m \u001b[0mname\u001b[0m\u001b[0;34m:\u001b[0m \u001b[0mstr\u001b[0m\u001b[0;34m,\u001b[0m \u001b[0mvalue\u001b[0m\u001b[0;34m)\u001b[0m \u001b[0;34m->\u001b[0m \u001b[0;32mNone\u001b[0m\u001b[0;34m:\u001b[0m\u001b[0;34m\u001b[0m\u001b[0;34m\u001b[0m\u001b[0m\n",
      "\u001b[0;31mAttributeError\u001b[0m: 'DataFrame' object has no attribute 'swarmplot'"
     ]
    }
   ],
   "source": [
    "kwame_df.drop(columns=['cohort_id', 'ip', 'network', 'host'])"
   ]
  },
  {
   "cell_type": "code",
   "execution_count": 65,
   "metadata": {},
   "outputs": [
    {
     "data": {
      "text/plain": [
       "<matplotlib.axes._subplots.AxesSubplot at 0x1395f7d60>"
      ]
     },
     "execution_count": 65,
     "metadata": {},
     "output_type": "execute_result"
    },
    {
     "data": {
      "image/png": "[encoded data removed]",
      "text/plain": [
       "<Figure size 1008x648 with 1 Axes>"
      ]
     },
     "metadata": {
      "needs_background": "light"
     },
     "output_type": "display_data"
    }
   ],
   "source": [
    "kwame_df.drop(columns=['cohort_id', 'ip', 'network', 'host']).groupby(['ds'])['request_method'].value_counts().plot()"
   ]
  },
  {
   "cell_type": "code",
   "execution_count": null,
   "metadata": {},
   "outputs": [],
   "source": []
  }
 ],
 "metadata": {
  "kernelspec": {
   "display_name": "Python 3",
   "language": "python",
   "name": "python3"
  },
  "language_info": {
   "codemirror_mode": {
    "name": "ipython",
    "version": 3
   },
   "file_extension": ".py",
   "mimetype": "text/x-python",
   "name": "python",
   "nbconvert_exporter": "python",
   "pygments_lexer": "ipython3",
   "version": "3.8.3"
  }
 },
 "nbformat": 4,
 "nbformat_minor": 4
}
